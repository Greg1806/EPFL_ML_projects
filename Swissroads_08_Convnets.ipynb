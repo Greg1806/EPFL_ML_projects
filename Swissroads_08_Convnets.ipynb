{
 "cells": [
  {
   "cell_type": "markdown",
   "metadata": {},
   "source": [
    "### (H) Convolutional neural network\n",
    "\n",
    "#### Instructions\n",
    "\n",
    "You tested above different models with the set of high-level features extracted from a **pretrained neural network**. However, **can you get similar results by creating a ConvNet from scratch** and using the pixel values from the original images to train the model?\n",
    "\n",
    "1. What accuracy can you achieve?\n",
    "2. Can you get good results? - If not, why?\n",
    "\n",
    "#### Task H\n",
    "\n",
    "* No need to load data as has been done at the top of the notebook\n",
    "* No need to rescale data as has been done in initial notebook\n",
    "* Define a get_batches(X, y, batch_size) function to generate random X/y batches of size batch_size using a Python generator.\n",
    "\n",
    "#### Load data"
   ]
  },
  {
   "cell_type": "code",
   "execution_count": 1,
   "metadata": {},
   "outputs": [],
   "source": [
    "import numpy as np\n",
    "import pandas as pd"
   ]
  },
  {
   "cell_type": "code",
   "execution_count": 2,
   "metadata": {},
   "outputs": [
    {
     "name": "stdout",
     "output_type": "stream",
     "text": [
      "features_tr: (280, 2048)\n",
      "labels_tr: (280,)\n",
      "features_va: (139, 2048)\n",
      "labels_va: (139,)\n",
      "features_te: (50, 2048)\n",
      "labels_te: (50,)\n",
      "imgs_tr: (280, 299, 299, 3)\n",
      "imgs_va: (139, 299, 299, 3)\n",
      "imgs_te: (50, 299, 299, 3)\n"
     ]
    }
   ],
   "source": [
    "with np.load('swissroads_highlevel_features.npz', allow_pickle=False) as npz_file:\n",
    "    # Load the arrays\n",
    "    features_tr = npz_file['features_train']\n",
    "    labels_tr = npz_file['labels_train']\n",
    "    features_va = npz_file['features_valid']\n",
    "    labels_va = npz_file['labels_valid']\n",
    "    features_te = npz_file['features_test']\n",
    "    labels_te = npz_file['labels_test']\n",
    "    imgs_tr = npz_file['imgs_train']\n",
    "    imgs_va = npz_file['imgs_valid']\n",
    "    imgs_te = npz_file['imgs_test']\n",
    "\n",
    "print('features_tr:', features_tr.shape)\n",
    "print('labels_tr:', labels_tr.shape)\n",
    "print('features_va:', features_va.shape)\n",
    "print('labels_va:', labels_va.shape)\n",
    "print('features_te:', features_te.shape)\n",
    "print('labels_te:', labels_te.shape)\n",
    "print('imgs_tr:', imgs_tr.shape)\n",
    "print('imgs_va:', imgs_va.shape)\n",
    "print('imgs_te:', imgs_te.shape)"
   ]
  },
  {
   "cell_type": "code",
   "execution_count": 3,
   "metadata": {},
   "outputs": [],
   "source": [
    "X_tr = features_tr\n",
    "X_va = features_va\n",
    "X_te = features_te\n",
    "y_tr = labels_tr\n",
    "y_va = labels_va\n",
    "y_te = labels_te\n",
    "labels = ['bike','car','motorcycle','other','truck','van']"
   ]
  },
  {
   "cell_type": "markdown",
   "metadata": {},
   "source": [
    "### Task H"
   ]
  },
  {
   "cell_type": "code",
   "execution_count": 4,
   "metadata": {},
   "outputs": [],
   "source": [
    "# 4.8.6 Multilayer and Conventional neural networks"
   ]
  },
  {
   "cell_type": "code",
   "execution_count": 5,
   "metadata": {},
   "outputs": [
    {
     "name": "stdout",
     "output_type": "stream",
     "text": [
      "Train shape: (280, 299, 299, 3)\n",
      "Validation shape: (139, 299, 299, 3)\n",
      "Test shape: (50, 299, 299, 3)\n"
     ]
    }
   ],
   "source": [
    "print('Train shape:',imgs_tr.shape)\n",
    "print('Validation shape:',imgs_va.shape)\n",
    "print('Test shape:',imgs_te.shape)"
   ]
  },
  {
   "cell_type": "code",
   "execution_count": 6,
   "metadata": {},
   "outputs": [],
   "source": [
    "# Batch generator\n",
    "def get_batches(X, y, batch_size):\n",
    "    # Shuffle X,y\n",
    "    shuffled_idx = np.arange(len(y)) # 1,2,...,n\n",
    "    np.random.shuffle(shuffled_idx)\n",
    "    \n",
    "    # Enumerate indexes by steps of batch_size\n",
    "    # i: 0, b, 2b, 3b, 4b, .. where b is the batch size\n",
    "    for i in range(0, len(y), batch_size):\n",
    "        # Batch indexes\n",
    "        batch_idx = shuffled_idx[i:i+batch_size]\n",
    "        yield X[batch_idx], y[batch_idx]"
   ]
  },
  {
   "cell_type": "markdown",
   "metadata": {},
   "source": [
    "**Greg note on Batches vs loop on full data set** *(from 4.7.5 Neural networks)*\n",
    "\n",
    "*In the last unit, we trained the network by running the **training operation** a hundred times using the entire data set. In practice, we often need to train neural networks on large data sets, and it's usually not possible to run the graph using the entire data. In particular, we need to be careful when running our graphs using GPUs since they have smaller memories than CPUs. For this reason, we usually train neural networks by **small batches of data points**.*\n",
    "\n",
    "*In the machine learning jargon, one pass of training through the entire training set is called an **epoch**. In practice, **we usually shuffle the data before each epoch to get better results**.*"
   ]
  },
  {
   "cell_type": "code",
   "execution_count": 7,
   "metadata": {},
   "outputs": [
    {
     "name": "stdout",
     "output_type": "stream",
     "text": [
      "Batch X/y: (32, 299, 299, 3) (32,)\n",
      "Batch X/y: (32, 299, 299, 3) (32,)\n",
      "Batch X/y: (32, 299, 299, 3) (32,)\n",
      "Batch X/y: (32, 299, 299, 3) (32,)\n",
      "Batch X/y: (32, 299, 299, 3) (32,)\n",
      "Batch X/y: (32, 299, 299, 3) (32,)\n",
      "Batch X/y: (32, 299, 299, 3) (32,)\n",
      "Batch X/y: (32, 299, 299, 3) (32,)\n",
      "Batch X/y: (24, 299, 299, 3) (24,)\n"
     ]
    }
   ],
   "source": [
    "# Use generator in a \"for\" loop\n",
    "for X_batch, y_batch in get_batches(imgs_tr, y_tr, 32):\n",
    "    print('Batch X/y:', X_batch.shape, y_batch.shape)"
   ]
  },
  {
   "cell_type": "markdown",
   "metadata": {},
   "source": [
    "#### Create and Train ConvNet\n",
    "\n",
    "* Create a convolutional neural network and train it using your batch generator\n",
    "* Evaluate the accuracy on the validation set after each epoch\n",
    "* Test different architectures and parameters\n",
    "* Evaluate best network on the test set\n",
    "\n",
    "The network has the following layers.\n",
    "\n",
    "* Input layer with 299 by 299 RGB images from the swissroads data set\n",
    "* Convolutional layer - 124 filters, 5x5 kernels, 2x2 strides, \"same\" padding and ReLU activation\n",
    "* Maxpool layer - 2x2 pool size, 2x2 strides, \"same\" padding\n",
    "* Convolutional layer - 64 filters, 3x3 kernels, 1x1 strides, \"same\" padding and ReLU activation\n",
    "* Maxpool layer - 2x2 pool size, 2x2 stride, \"same\" padding\n",
    "* Convolutional layer - 32 filters, 3x3 kernels, 1x1 strides, \"same\" padding and ReLU activation\n",
    "* Maxpool layer - 2x2 pool size, 2x2 stride, \"same\" padding\n",
    "\n",
    "We then flatten the output of this last pooling layer and get 1,024 units. We apply dropout to this flat layer and connect it to a final 2-layer \"dense\" network.\n",
    "\n",
    "* Fully-connected layer with 512 units and ReLU activation\n",
    "* Fully-connected layer with 128 units and ReLU activation\n",
    "* Softmax regression layer with 6 output units\n",
    "\n",
    "**perform feature extraction with the convolutional/maxpool layers and then classification with the fully-connected ones. Dropout added to the input of the fully-connected layers to let the classifier learn different aspects of the data and avoid overfitting.**"
   ]
  },
  {
   "cell_type": "code",
   "execution_count": 8,
   "metadata": {},
   "outputs": [
    {
     "name": "stderr",
     "output_type": "stream",
     "text": [
      "C:\\Users\\glaurent\\AppData\\Local\\Continuum\\anaconda3\\envs\\exts-ml\\lib\\site-packages\\h5py\\__init__.py:36: FutureWarning: Conversion of the second argument of issubdtype from `float` to `np.floating` is deprecated. In future, it will be treated as `np.float64 == np.dtype(float).type`.\n",
      "  from ._conv import register_converters as _register_converters\n"
     ]
    },
    {
     "name": "stdout",
     "output_type": "stream",
     "text": [
      "Input: (?, 299, 299, 3)\n",
      "Convolutional layer: (?, 150, 150, 128)\n",
      "Maxpool: (?, 75, 75, 128)\n",
      "Convolutional layer: (?, 75, 75, 64)\n",
      "Maxpool: (?, 38, 38, 64)\n",
      "Convolutional layer: (?, 75, 75, 64)\n",
      "Maxpool: (?, 19, 19, 32)\n",
      "Flatten: (?, 11552)\n",
      "Dropout: (?, 11552)\n",
      "Fully connected layer: (?, 512)\n",
      "Fully connected layer: (?, 128)\n",
      "Output layer: (?, 6)\n"
     ]
    }
   ],
   "source": [
    "import tensorflow as tf\n",
    "\n",
    "# Create new graph\n",
    "graph = tf.Graph()\n",
    "\n",
    "with graph.as_default():\n",
    "    # Placeholders\n",
    "    X = tf.placeholder(dtype=tf.float32, shape=[None, 299, 299, 3])\n",
    "    y = tf.placeholder(dtype=tf.int32, shape=[None])\n",
    "    print('Input:', X.shape)\n",
    "    \n",
    "    # Convolutional layer (64 filters, 5x5, stride: 2)\n",
    "    conv1 = tf.layers.conv2d(\n",
    "        X, 128, (5, 5), (2, 2), 'SAME', # \"same\" padding\n",
    "        activation=tf.nn.relu, # ReLu\n",
    "        kernel_initializer=tf.truncated_normal_initializer(stddev=0.01, seed=0),\n",
    "        name='conv1'\n",
    "    )\n",
    "    print('Convolutional layer:', conv1.shape)\n",
    "    \n",
    "    # Maxpool layer (2x2, stride: 2, \"same\" padding)\n",
    "    pool1 = tf.layers.max_pooling2d(conv1, (2, 2), (2, 2), \"Same\")\n",
    "    print('Maxpool:', pool1.shape)\n",
    "    \n",
    "    # Convolutional layer (32 filters, 3x3, stride: 1)\n",
    "    conv2 = tf.layers.conv2d(\n",
    "        pool1, 64, (3, 3), (1, 1), \"SAME\",\n",
    "        activation=tf.nn.relu,\n",
    "        kernel_initializer=tf.truncated_normal_initializer(stddev=0.01, seed=0),\n",
    "        name='conv2'\n",
    "    )\n",
    "    print('Convolutional layer:', conv2.shape)\n",
    "    \n",
    "    # Maxpool layer (2x2, stride: 2, \"same\" padding)\n",
    "    pool2 = tf.layers.max_pooling2d(conv2, (2, 2), (2, 2), \"Same\")\n",
    "    print('Maxpool:', pool2.shape)\n",
    "    \n",
    "    \n",
    "    # Convolutional layer (24 filters, 3x3, stride: 1)\n",
    "    conv3 = tf.layers.conv2d(\n",
    "        pool2, 32, (3, 3), (1, 1), \"SAME\",\n",
    "        activation=tf.nn.relu,\n",
    "        kernel_initializer=tf.truncated_normal_initializer(stddev=0.01, seed=0),\n",
    "        name='conv3'\n",
    "    )\n",
    "    print('Convolutional layer:', conv2.shape)\n",
    "    \n",
    "    # Maxpool layer (2x2, stride: 2, \"same\" padding)\n",
    "    pool3 = tf.layers.max_pooling2d(conv3, (2, 2), (2, 2), \"Same\")\n",
    "    print('Maxpool:', pool3.shape)\n",
    "    \n",
    "    \n",
    "    # Flatten output\n",
    "    flat_output = tf.contrib.layers.flatten(pool3)\n",
    "    print('Flatten:', flat_output.shape)\n",
    "    \n",
    "    # Dropout\n",
    "    training = tf.placeholder(dtype=tf.bool)\n",
    "    flat_output = tf.layers.dropout(flat_output, rate=0.5, seed=0, training=training)\n",
    "    print('Dropout:', flat_output.shape)\n",
    "    \n",
    "    # Fully connected layer\n",
    "    fc1 = tf.layers.dense(\n",
    "        flat_output, 512, # hidden units\n",
    "        activation=tf.nn.relu, \n",
    "        kernel_initializer=tf.variance_scaling_initializer(scale=1, seed=0),\n",
    "        bias_initializer=tf.zeros_initializer()\n",
    "    )\n",
    "    print('Fully connected layer:', fc1.shape)\n",
    "    \n",
    "    # Fully connected layer\n",
    "    fc2 = tf.layers.dense(\n",
    "        fc1, 128, # hidden units\n",
    "        activation=tf.nn.relu, \n",
    "        kernel_initializer=tf.variance_scaling_initializer(scale=1, seed=0),\n",
    "        bias_initializer=tf.zeros_initializer()\n",
    "    )\n",
    "    print('Fully connected layer:', fc2.shape)\n",
    "    \n",
    "    # Output layer\n",
    "    logits = tf.layers.dense(\n",
    "        fc2, 6, # One output unit per category\n",
    "        activation=None, # No activation function\n",
    "        kernel_initializer=tf.variance_scaling_initializer(scale=1, seed=0),\n",
    "        bias_initializer=tf.zeros_initializer()\n",
    "    )\n",
    "    print('Output layer:', logits.shape)\n",
    "    \n",
    "    # Kernel of the 1st conv. layer\n",
    "    \n",
    "    # Mean corss-entropy\n",
    "    mean_ce = tf.reduce_mean(\n",
    "        tf.nn.sparse_softmax_cross_entropy_with_logits(\n",
    "            labels=y, logits=logits))\n",
    "    \n",
    "    # Adam optimizer\n",
    "    lr = tf.placeholder(dtype=tf.float32)\n",
    "    gd = tf.train.AdamOptimizer(learning_rate=lr)\n",
    "    \n",
    "    # Minimize cross-entropy\n",
    "    train_op = gd.minimize(mean_ce)\n",
    "    \n",
    "    # Compute predictions and accuracy\n",
    "    predictions = tf.argmax(logits, axis=1, output_type=tf.int32)\n",
    "    probabilities = tf.nn.softmax(logits)\n",
    "    is_correct = tf.equal(y, predictions)\n",
    "    accuracy = tf.reduce_mean(tf.cast(is_correct, dtype=tf.float32))"
   ]
  },
  {
   "cell_type": "code",
   "execution_count": 9,
   "metadata": {},
   "outputs": [
    {
     "name": "stdout",
     "output_type": "stream",
     "text": [
      "Epoch 1 - valid: 0.230 train: 0.177 (mean)\n",
      "Epoch 2 - valid: 0.237 train: 0.227 (mean)\n",
      "Epoch 3 - valid: 0.237 train: 0.234 (mean)\n",
      "Epoch 4 - valid: 0.237 train: 0.230 (mean)\n",
      "Epoch 5 - valid: 0.309 train: 0.295 (mean)\n",
      "Epoch 6 - valid: 0.288 train: 0.324 (mean)\n",
      "Epoch 7 - valid: 0.367 train: 0.339 (mean)\n",
      "Epoch 8 - valid: 0.345 train: 0.412 (mean)\n",
      "Epoch 9 - valid: 0.353 train: 0.484 (mean)\n",
      "Epoch 10 - valid: 0.439 train: 0.447 (mean)\n",
      "Epoch 11 - valid: 0.410 train: 0.508 (mean)\n",
      "Epoch 12 - valid: 0.432 train: 0.545 (mean)\n",
      "Epoch 13 - valid: 0.482 train: 0.565 (mean)\n",
      "Epoch 14 - valid: 0.475 train: 0.612 (mean)\n",
      "Epoch 15 - valid: 0.446 train: 0.634 (mean)\n",
      "Epoch 16 - valid: 0.417 train: 0.634 (mean)\n",
      "Epoch 17 - valid: 0.388 train: 0.663 (mean)\n",
      "Epoch 18 - valid: 0.460 train: 0.791 (mean)\n",
      "Epoch 19 - valid: 0.446 train: 0.821 (mean)\n",
      "Epoch 20 - valid: 0.439 train: 0.829 (mean)\n",
      "Test accuracy: 0.500\n"
     ]
    }
   ],
   "source": [
    "# Validation accuracy\n",
    "valid_acc_values = []\n",
    "\n",
    "with tf.Session(graph=graph) as sess:\n",
    "    # Initialize variables\n",
    "    sess.run(tf.global_variables_initializer())\n",
    "    \n",
    "    # Set seed\n",
    "    np.random.seed(0)\n",
    "    \n",
    "    # Train several epochs:\n",
    "    for epoch in range(20): # tried with 20 but starts over fitting after 15\n",
    "        # Accuracy values (train) after each batch\n",
    "        batch_acc = []\n",
    "        \n",
    "        for X_batch, y_batch in get_batches(imgs_tr, labels_tr, 32):\n",
    "            # Run training and evaluate accuracy\n",
    "            _, acc_value= sess.run([train_op, accuracy], feed_dict={\n",
    "                X: X_batch,\n",
    "                y: y_batch,\n",
    "                lr: 0.001, # learning rate\n",
    "                training: True\n",
    "            })\n",
    "            \n",
    "            # Save accuracy (current batch)\n",
    "            batch_acc.append(acc_value)\n",
    "            \n",
    "        # Evaluate validation accurcy\n",
    "        valid_acc = sess.run(accuracy, feed_dict={\n",
    "            X: imgs_va,\n",
    "            y: labels_va,\n",
    "            training: False\n",
    "        })\n",
    "        valid_acc_values.append(valid_acc)\n",
    "        \n",
    "        # Print progress\n",
    "        print('Epoch {} - valid: {:.3f} train: {:.3f} (mean)'.format(\n",
    "            epoch+1, valid_acc, np.mean(batch_acc)\n",
    "        ))\n",
    "        \n",
    "    # Get 1st conv. layer kernels\n",
    "    \n",
    "    # Evalute test accuracy\n",
    "    test_acc = sess.run(accuracy, feed_dict={\n",
    "        X: imgs_te, \n",
    "        y: labels_te,\n",
    "        training: False\n",
    "    })\n",
    "    print('Test accuracy: {:.3f}'.format(test_acc))"
   ]
  },
  {
   "cell_type": "code",
   "execution_count": 10,
   "metadata": {},
   "outputs": [
    {
     "data": {
      "image/png": "[encoded data removed]",
      "text/plain": [
       "<Figure size 432x288 with 1 Axes>"
      ]
     },
     "metadata": {
      "needs_background": "light"
     },
     "output_type": "display_data"
    }
   ],
   "source": [
    "%matplotlib inline\n",
    "import matplotlib.pyplot as plt\n",
    "\n",
    "# Plot accuracy values\n",
    "plt.plot(valid_acc_values)\n",
    "plt.title('Validation accuracy: {:.3f} (mean last 3)'.format(\n",
    "    np.mean(valid_acc_values[-3:]) # last three values\n",
    "))\n",
    "plt.xlabel('epoch')\n",
    "plt.ylabel('accuracy')\n",
    "plt.show()"
   ]
  },
  {
   "cell_type": "code",
   "execution_count": 11,
   "metadata": {},
   "outputs": [
    {
     "name": "stdout",
     "output_type": "stream",
     "text": [
      "Stored 'test_acc' (float32)\n"
     ]
    }
   ],
   "source": [
    "%store test_acc"
   ]
  },
  {
   "cell_type": "markdown",
   "metadata": {},
   "source": [
    "#### Comments:\n",
    "* Accuracy achieved is much lower to other estimators build from high level output features. From my understanding the main reason behind it is that the model used to extract high-level features has been built on a much larger data set and therefore is able to achieve better performance"
   ]
  },
  {
   "cell_type": "markdown",
   "metadata": {},
   "source": [
    "#### Notes/Questions Task H (Greg)\n",
    "* How to choose number of layers? How to choose number of filters, kernel_size, stride, ..? Does the initial size of the picture have an impact (299x299 vs 32x32)? *(cell 8)*\n",
    "* As of flat_output could I have default back to Keras using those high-level ouputs? Could I have used 'model.compile()' with the tf.Graph() steps? *(cell 8)*\n",
    "* Why 256 and not 300 (or something else) in fully connected layer? Tried adding 3 lays instead of 2 but not improving model, tried creating flat output with less features but not improving neither. *(cell 8)*\n",
    "* How to use/output probabilities instead of accuracy or logits? *(cell 9)*"
   ]
  },
  {
   "cell_type": "code",
   "execution_count": null,
   "metadata": {},
   "outputs": [],
   "source": []
  }
 ],
 "metadata": {
  "kernelspec": {
   "display_name": "Python 3",
   "language": "python",
   "name": "python3"
  },
  "language_info": {
   "codemirror_mode": {
    "name": "ipython",
    "version": 3
   },
   "file_extension": ".py",
   "mimetype": "text/x-python",
   "name": "python",
   "nbconvert_exporter": "python",
   "pygments_lexer": "ipython3",
   "version": "3.6.10"
  }
 },
 "nbformat": 4,
 "nbformat_minor": 4
}
