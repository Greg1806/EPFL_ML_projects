{
 "cells": [
  {
   "cell_type": "markdown",
   "id": "7454f8b1",
   "metadata": {},
   "source": [
    "# Exercise - Classify handwritten digits with k-NN\n",
    "\n",
    "The goal of this exercise is to **build a k-NN classifier to recognize images from the MNIST data set using a Pipeline object.** \n",
    "\n",
    "The original data set has 70 thousand images, but it can be slow to train using all the images. For this reason, we will use a subset of the data set.\n",
    "\n",
    "* 5,000 images to train the classifier\n",
    "* 1,000 images to test it\n",
    "\n",
    "### Nearest neighbors algorithm\n",
    "\n",
    "The *KNeighborsClassifier* object from Scikit-learn implements several algorithms to find the k nearest neighbors to a given data point. **The simplest strategy is to compute the distance to every other data points from the training set and select the k closest ones.** This is called **brute-force search**.\n",
    "\n",
    "Some algorithms don't need to compute the distance to every data points at runtime. However, they require to build a sort of index of the data set before running the algorithm, and this operation can be **computationally expensive** for large ones. In our case, the brute strategy is faster.\n",
    "\n",
    "'knn = KNeighborsClassifier(n_neighbors=.... algorithm='brut')\n",
    "\n",
    "To get the list of strategies implemented in Scikit-learn: [KNeighborsClassifier page](https://scikit-learn.org/stable/modules/generated/sklearn.neighbors.KNeighborsClassifier.html)."
   ]
  },
  {
   "cell_type": "markdown",
   "id": "2e0a774b",
   "metadata": {},
   "source": [
    "### Load the data"
   ]
  },
  {
   "cell_type": "code",
   "execution_count": 2,
   "id": "0a9f3384",
   "metadata": {},
   "outputs": [
    {
     "name": "stdout",
     "output_type": "stream",
     "text": [
      "x: [[0. 0. 0. ... 0. 0. 0.]\n",
      " [0. 0. 0. ... 0. 0. 0.]\n",
      " [0. 0. 0. ... 0. 0. 0.]\n",
      " ...\n",
      " [0. 0. 0. ... 0. 0. 0.]\n",
      " [0. 0. 0. ... 0. 0. 0.]\n",
      " [0. 0. 0. ... 0. 0. 0.]]\n",
      "y: [5 0 4 ... 8 6 9]\n"
     ]
    }
   ],
   "source": [
    "import numpy as np\n",
    "\n",
    "with np.load('Course 4\\mnist-6k.npz', allow_pickle=False) as npz_file:\n",
    "    # Load the arrays\n",
    "    data = dict(npz_file.items())\n",
    "    X = npz_file['data']\n",
    "    y = npz_file['labels']\n",
    "\n",
    "X = X.astype(np.float)\n",
    "\n",
    "print('x:', X) # [6.28, 2.719, 1.]\n",
    "print('y:', y) # [2, 3, 5]\n",
    "#print(data['data'])\n",
    "#print(data['labels'])"
   ]
  },
  {
   "cell_type": "code",
   "execution_count": 3,
   "id": "f5fe8326",
   "metadata": {},
   "outputs": [
    {
     "name": "stdout",
     "output_type": "stream",
     "text": [
      "Train set: (5000, 784) (5000,)\n",
      "Test set: (1000, 784) (1000,)\n"
     ]
    }
   ],
   "source": [
    "from sklearn.model_selection import train_test_split\n",
    "\n",
    "X_tr, X_te, y_tr, y_te = train_test_split(X, y, test_size=1000, random_state=0)\n",
    "print('Train set:',X_tr.shape, y_tr.shape)\n",
    "print('Test set:', X_te.shape, y_te.shape)"
   ]
  },
  {
   "cell_type": "code",
   "execution_count": 4,
   "id": "1992e237",
   "metadata": {},
   "outputs": [
    {
     "data": {
      "text/plain": [
       "(6000, 784)"
      ]
     },
     "execution_count": 4,
     "metadata": {},
     "output_type": "execute_result"
    }
   ],
   "source": [
    "X.shape"
   ]
  },
  {
   "cell_type": "code",
   "execution_count": 5,
   "id": "512a18f9",
   "metadata": {},
   "outputs": [
    {
     "data": {
      "text/plain": [
       "(6000,)"
      ]
     },
     "execution_count": 5,
     "metadata": {},
     "output_type": "execute_result"
    }
   ],
   "source": [
    "y.shape"
   ]
  },
  {
   "cell_type": "code",
   "execution_count": 6,
   "id": "b2505024",
   "metadata": {},
   "outputs": [
    {
     "data": {
      "text/plain": [
       "array([5, 0, 4, ..., 8, 6, 9])"
      ]
     },
     "execution_count": 6,
     "metadata": {},
     "output_type": "execute_result"
    }
   ],
   "source": [
    "y"
   ]
  },
  {
   "cell_type": "code",
   "execution_count": 7,
   "id": "ed569c57",
   "metadata": {},
   "outputs": [
    {
     "data": {
      "text/plain": [
       "1    0.111833\n",
       "7    0.108500\n",
       "4    0.103833\n",
       "3    0.101333\n",
       "6    0.101333\n",
       "9    0.100167\n",
       "0    0.098667\n",
       "2    0.096833\n",
       "8    0.091833\n",
       "5    0.085667\n",
       "dtype: float64"
      ]
     },
     "execution_count": 7,
     "metadata": {},
     "output_type": "execute_result"
    }
   ],
   "source": [
    "import pandas as pd\n",
    "pd.value_counts(y, normalize=True)"
   ]
  },
  {
   "cell_type": "markdown",
   "id": "11624618",
   "metadata": {},
   "source": [
    "### Check images"
   ]
  },
  {
   "cell_type": "code",
   "execution_count": 8,
   "id": "ae36284a",
   "metadata": {},
   "outputs": [
    {
     "data": {
      "text/plain": [
       "(784,)"
      ]
     },
     "execution_count": 8,
     "metadata": {},
     "output_type": "execute_result"
    }
   ],
   "source": [
    "flat_img = X[2,:]\n",
    "flat_img.shape"
   ]
  },
  {
   "cell_type": "code",
   "execution_count": 9,
   "id": "a28a18b5",
   "metadata": {},
   "outputs": [
    {
     "name": "stdout",
     "output_type": "stream",
     "text": [
      "shape: (28, 28)\n"
     ]
    }
   ],
   "source": [
    "# Reshape the image\n",
    "img = flat_img.reshape(28, 28)\n",
    "\n",
    "# Print shape\n",
    "print('shape:', img.shape)"
   ]
  },
  {
   "cell_type": "code",
   "execution_count": 10,
   "id": "c8635cba",
   "metadata": {},
   "outputs": [
    {
     "data": {
      "text/plain": [
       "4"
      ]
     },
     "execution_count": 10,
     "metadata": {},
     "output_type": "execute_result"
    }
   ],
   "source": [
    "y[2]"
   ]
  },
  {
   "cell_type": "code",
   "execution_count": 11,
   "id": "990ec151",
   "metadata": {},
   "outputs": [
    {
     "data": {
      "image/png": "[encoded data removed]",
      "text/plain": [
       "<Figure size 432x288 with 1 Axes>"
      ]
     },
     "metadata": {
      "needs_background": "light"
     },
     "output_type": "display_data"
    }
   ],
   "source": [
    "%matplotlib inline\n",
    "import matplotlib.pyplot as plt\n",
    "\n",
    "# Plot the image\n",
    "plt.imshow(img,cmap=plt.cm.gray_r)\n",
    "plt.title(y[2])\n",
    "plt.show()"
   ]
  },
  {
   "cell_type": "markdown",
   "id": "d2458630",
   "metadata": {},
   "source": [
    "#### Baseline"
   ]
  },
  {
   "cell_type": "code",
   "execution_count": 12,
   "id": "fcb4e76c",
   "metadata": {},
   "outputs": [],
   "source": [
    "from sklearn.dummy import DummyClassifier\n",
    "\n",
    "# Create the dummy classifier\n",
    "dummy = DummyClassifier(strategy='most_frequent')"
   ]
  },
  {
   "cell_type": "code",
   "execution_count": 13,
   "id": "29feaa6d",
   "metadata": {},
   "outputs": [
    {
     "name": "stdout",
     "output_type": "stream",
     "text": [
      "Accuracy: 0.10\n"
     ]
    }
   ],
   "source": [
    "# Fit it\n",
    "dummy.fit(X_tr, y_tr)\n",
    "\n",
    "# Compute test accuracy\n",
    "accuracy = dummy.score(X_te,y_te)\n",
    "print('Accuracy: {:.2f}'.format(accuracy))"
   ]
  },
  {
   "cell_type": "code",
   "execution_count": 14,
   "id": "31294fa2",
   "metadata": {},
   "outputs": [
    {
     "name": "stdout",
     "output_type": "stream",
     "text": [
      "Predicted: [1 1 1 1 1 1 1 1 1 1 1 1 1 1 1 1 1 1 1 1 1 1 1 1 1 1 1 1 1 1] ..\n",
      "True labels: [9 9 4 2 9 8 8 4 3 3 6 3 9 6 8 5 2 7 0 6 4 1 4 8 8 6 2 9 3 3] ..\n"
     ]
    }
   ],
   "source": [
    "# \"Most-frequent\" predictions\n",
    "y_pred_dummy = dummy.predict(X_te)\n",
    "print('Predicted:', y_pred_dummy[:30], '..')\n",
    "print('True labels:', y_te[:30], '..') "
   ]
  },
  {
   "cell_type": "markdown",
   "id": "93aeac0b",
   "metadata": {},
   "source": [
    "### K-NN Classifier"
   ]
  },
  {
   "cell_type": "code",
   "execution_count": 15,
   "id": "599f58ed",
   "metadata": {},
   "outputs": [],
   "source": [
    "from sklearn.preprocessing import StandardScaler\n",
    "from sklearn.neighbors import KNeighborsClassifier\n",
    "from sklearn.pipeline import Pipeline"
   ]
  },
  {
   "cell_type": "code",
   "execution_count": 16,
   "id": "a15e4f6c",
   "metadata": {},
   "outputs": [
    {
     "name": "stdout",
     "output_type": "stream",
     "text": [
      "Accuracy: 0.899\n"
     ]
    }
   ],
   "source": [
    "# Create a k-NN pipeline\n",
    "knn_pipe = Pipeline([\n",
    "    ('scaler', StandardScaler()),\n",
    "    ('knn', KNeighborsClassifier(n_neighbors=5,algorithm='brute'))\n",
    "])\n",
    "\n",
    "# Fit estimator\n",
    "knn_pipe.fit(X_tr, y_tr)\n",
    "\n",
    "# Evaluate on test set\n",
    "accuracy = knn_pipe.score(X_te, y_te)\n",
    "print('Accuracy: {:.3f}'.format(accuracy))"
   ]
  },
  {
   "cell_type": "code",
   "execution_count": 17,
   "id": "71ecdc36",
   "metadata": {},
   "outputs": [
    {
     "name": "stdout",
     "output_type": "stream",
     "text": [
      "Accuracy: 0.941\n"
     ]
    }
   ],
   "source": [
    "from sklearn.base import clone\n",
    "\n",
    "knn_pipe2 = clone(knn_pipe)\n",
    "knn_pipe2.set_params(scaler=None)\n",
    "knn_pipe2.fit(X_tr, y_tr)\n",
    "print('Accuracy: {:.3f}'.format(knn_pipe2.score(X_te, y_te)))"
   ]
  },
  {
   "cell_type": "code",
   "execution_count": 18,
   "id": "030841bc",
   "metadata": {},
   "outputs": [
    {
     "data": {
      "text/plain": [
       "array([1, 3, 8, 1, 1])"
      ]
     },
     "execution_count": 18,
     "metadata": {},
     "output_type": "execute_result"
    }
   ],
   "source": [
    "knn_pipe.predict(X_tr)[:5]"
   ]
  },
  {
   "cell_type": "code",
   "execution_count": 19,
   "id": "546e6ffd",
   "metadata": {},
   "outputs": [
    {
     "data": {
      "text/plain": [
       "array([1, 3, 8, 1, 1])"
      ]
     },
     "execution_count": 19,
     "metadata": {},
     "output_type": "execute_result"
    }
   ],
   "source": [
    "y_tr[:5]"
   ]
  },
  {
   "cell_type": "code",
   "execution_count": 20,
   "id": "6acb465e",
   "metadata": {},
   "outputs": [
    {
     "data": {
      "text/plain": [
       "array([1, 3, 8, 1, 1])"
      ]
     },
     "execution_count": 20,
     "metadata": {},
     "output_type": "execute_result"
    }
   ],
   "source": [
    "knn_pipe2.predict(X_tr)[:5]"
   ]
  },
  {
   "cell_type": "code",
   "execution_count": 21,
   "id": "297273e0",
   "metadata": {},
   "outputs": [
    {
     "data": {
      "text/plain": [
       "0.941"
      ]
     },
     "execution_count": 21,
     "metadata": {},
     "output_type": "execute_result"
    }
   ],
   "source": [
    "kn = KNeighborsClassifier(n_neighbors=5)\n",
    "kn.fit(X_tr,y_tr)\n",
    "kn.score(X_te, y_te)"
   ]
  },
  {
   "cell_type": "markdown",
   "id": "b5218092",
   "metadata": {},
   "source": [
    "### Tune K using grid search"
   ]
  },
  {
   "cell_type": "code",
   "execution_count": 22,
   "id": "a1dad7a4",
   "metadata": {},
   "outputs": [],
   "source": [
    "k_values = np.r_[1,np.arange(2,20,2)]"
   ]
  },
  {
   "cell_type": "code",
   "execution_count": 26,
   "id": "dacff0de",
   "metadata": {},
   "outputs": [],
   "source": [
    "results = []\n",
    "for runs in range(10):\n",
    "    \n",
    "    X_tr, X_te,y_tr,y_te = train_test_split(X,y,test_size=1000, random_state=runs)\n",
    "    \n",
    "    for k in k_values:\n",
    "        kn = KNeighborsClassifier(n_neighbors=k, algorithm='brute')\n",
    "        kn.fit(X_tr, y_tr)\n",
    "        results.append({\n",
    "            'k':k,\n",
    "            'runs':runs,\n",
    "            'train accuracy':kn.score(X_tr, y_tr),\n",
    "            'test accuracy':kn.score(X_te, y_te)\n",
    "        })"
   ]
  },
  {
   "cell_type": "code",
   "execution_count": 27,
   "id": "6c948558",
   "metadata": {},
   "outputs": [],
   "source": [
    "results = pd.DataFrame(results)"
   ]
  },
  {
   "cell_type": "code",
   "execution_count": 28,
   "id": "d9fa6bf7",
   "metadata": {},
   "outputs": [
    {
     "data": {
      "text/html": [
       "<div>\n",
       "<style scoped>\n",
       "    .dataframe tbody tr th:only-of-type {\n",
       "        vertical-align: middle;\n",
       "    }\n",
       "\n",
       "    .dataframe tbody tr th {\n",
       "        vertical-align: top;\n",
       "    }\n",
       "\n",
       "    .dataframe thead th {\n",
       "        text-align: right;\n",
       "    }\n",
       "</style>\n",
       "<table border=\"1\" class=\"dataframe\">\n",
       "  <thead>\n",
       "    <tr style=\"text-align: right;\">\n",
       "      <th></th>\n",
       "      <th>k</th>\n",
       "      <th>runs</th>\n",
       "      <th>test accuracy</th>\n",
       "      <th>train accuracy</th>\n",
       "    </tr>\n",
       "  </thead>\n",
       "  <tbody>\n",
       "    <tr>\n",
       "      <th>0</th>\n",
       "      <td>1</td>\n",
       "      <td>0</td>\n",
       "      <td>0.952</td>\n",
       "      <td>1.0000</td>\n",
       "    </tr>\n",
       "    <tr>\n",
       "      <th>1</th>\n",
       "      <td>2</td>\n",
       "      <td>0</td>\n",
       "      <td>0.943</td>\n",
       "      <td>0.9662</td>\n",
       "    </tr>\n",
       "    <tr>\n",
       "      <th>2</th>\n",
       "      <td>4</td>\n",
       "      <td>0</td>\n",
       "      <td>0.949</td>\n",
       "      <td>0.9642</td>\n",
       "    </tr>\n",
       "    <tr>\n",
       "      <th>3</th>\n",
       "      <td>6</td>\n",
       "      <td>0</td>\n",
       "      <td>0.941</td>\n",
       "      <td>0.9556</td>\n",
       "    </tr>\n",
       "    <tr>\n",
       "      <th>4</th>\n",
       "      <td>8</td>\n",
       "      <td>0</td>\n",
       "      <td>0.941</td>\n",
       "      <td>0.9514</td>\n",
       "    </tr>\n",
       "    <tr>\n",
       "      <th>5</th>\n",
       "      <td>10</td>\n",
       "      <td>0</td>\n",
       "      <td>0.941</td>\n",
       "      <td>0.9444</td>\n",
       "    </tr>\n",
       "    <tr>\n",
       "      <th>6</th>\n",
       "      <td>12</td>\n",
       "      <td>0</td>\n",
       "      <td>0.941</td>\n",
       "      <td>0.9416</td>\n",
       "    </tr>\n",
       "    <tr>\n",
       "      <th>7</th>\n",
       "      <td>14</td>\n",
       "      <td>0</td>\n",
       "      <td>0.937</td>\n",
       "      <td>0.9354</td>\n",
       "    </tr>\n",
       "    <tr>\n",
       "      <th>8</th>\n",
       "      <td>16</td>\n",
       "      <td>0</td>\n",
       "      <td>0.930</td>\n",
       "      <td>0.9328</td>\n",
       "    </tr>\n",
       "    <tr>\n",
       "      <th>9</th>\n",
       "      <td>18</td>\n",
       "      <td>0</td>\n",
       "      <td>0.931</td>\n",
       "      <td>0.9296</td>\n",
       "    </tr>\n",
       "  </tbody>\n",
       "</table>\n",
       "</div>"
      ],
      "text/plain": [
       "    k  runs  test accuracy  train accuracy\n",
       "0   1     0          0.952          1.0000\n",
       "1   2     0          0.943          0.9662\n",
       "2   4     0          0.949          0.9642\n",
       "3   6     0          0.941          0.9556\n",
       "4   8     0          0.941          0.9514\n",
       "5  10     0          0.941          0.9444\n",
       "6  12     0          0.941          0.9416\n",
       "7  14     0          0.937          0.9354\n",
       "8  16     0          0.930          0.9328\n",
       "9  18     0          0.931          0.9296"
      ]
     },
     "execution_count": 28,
     "metadata": {},
     "output_type": "execute_result"
    }
   ],
   "source": [
    "results.head(10)"
   ]
  },
  {
   "cell_type": "code",
   "execution_count": 30,
   "id": "a554605f",
   "metadata": {},
   "outputs": [],
   "source": [
    "train_mean = results.groupby('k')['train accuracy'].mean()\n",
    "test_mean = results.groupby('k')['test accuracy'].mean()\n",
    "train_std = results.groupby('k')['train accuracy'].std()\n",
    "test_std = results.groupby('k')['test accuracy'].std()"
   ]
  },
  {
   "cell_type": "code",
   "execution_count": 32,
   "id": "8d577fa8",
   "metadata": {},
   "outputs": [
    {
     "data": {
      "image/png": "[encoded data removed]",
      "text/plain": [
       "<Figure size 432x288 with 1 Axes>"
      ]
     },
     "metadata": {
      "needs_background": "light"
     },
     "output_type": "display_data"
    }
   ],
   "source": [
    "# Plot mean scores\n",
    "plt.plot(k_values, train_mean, label='train')\n",
    "plt.plot(k_values, test_mean, label='test')\n",
    "\n",
    "# Add marker for best score\n",
    "best_k = test_mean.idxmax()\n",
    "plt.scatter(best_k, test_mean.max(), marker='x', c='red', zorder=10)\n",
    "\n",
    "# Quantify variance with ±std curves\n",
    "plt.fill_between(k_values, train_mean-train_std, train_mean+train_std, alpha=0.2)\n",
    "plt.fill_between(k_values, test_mean-test_std, test_mean+test_std, alpha=0.2)\n",
    "plt.title('Best k: {} with {:.1f}% accuracy'.format(best_k, 100*test_mean[best_k]))\n",
    "plt.ylabel('accuracy')\n",
    "plt.xlabel('k')\n",
    "plt.legend()\n",
    "plt.show()"
   ]
  },
  {
   "cell_type": "markdown",
   "id": "bafc2afc",
   "metadata": {},
   "source": [
    "# Exercise - CIFAR-10 classification with k-NN\n",
    "\n",
    "In the last exercise, we fitted a $k$-NN classifier to recognize images from the MNIST data set using raw pixel values and obtained reasonable results. **We will now try with the CIFAR-10 data set. This time, tuning the following parameters using grid search.**\n",
    "\n",
    "* The number of neighbors\n",
    "* The distance metric - L1 or L2 (Euclidean)\n",
    "* The weighting function - uniform or by distance\n",
    "\n",
    "We will start with a grid that only has a few k values to find the best distance metric and weighting function. Then we can fix these parameters and perform fine-tuning of the k value.\n",
    "\n",
    "### Data description\n",
    "\n",
    "The data set contains **32 by 32 color images from 10 different categories.** In total, there are 60,000 images, but we will use a subset of 6,000 images. The ten categories are numerically encoded with digits between 0 and 9."
   ]
  },
  {
   "cell_type": "code",
   "execution_count": 1,
   "id": "d10f28b0",
   "metadata": {},
   "outputs": [
    {
     "data": {
      "image/jpeg": "[encoded data removed]",
      "text/plain": [
       "<IPython.core.display.Image object>"
      ]
     },
     "execution_count": 1,
     "metadata": {},
     "output_type": "execute_result"
    }
   ],
   "source": [
    "from IPython.display import Image\n",
    "Image(filename='ImagesCIFAR.jpg')"
   ]
  },
  {
   "cell_type": "markdown",
   "id": "a046e4cd",
   "metadata": {},
   "source": [
    "The images are not standardized - they have different backgrounds and are taken from different angles and distances.\n",
    "\n",
    "### Parallelized execution\n",
    "\n",
    "**Processors can make multiple computations in parallel**. Scikit-learn $k$-NN implementation can leverage this to improve the speed of the classifier. The KNeighborsClassifier estimator provides an $n_jobs$ parameters for defining this number of parallel processes. We can set it to $-1$ to let Scikit-learn use all available processes."
   ]
  },
  {
   "cell_type": "code",
   "execution_count": 15,
   "id": "25677016",
   "metadata": {},
   "outputs": [
    {
     "data": {
      "text/plain": [
       "KNeighborsClassifier(algorithm='auto', leaf_size=30, metric='minkowski',\n",
       "           metric_params=None, n_jobs=-1, n_neighbors=5, p=2,\n",
       "           weights='uniform')"
      ]
     },
     "execution_count": 15,
     "metadata": {},
     "output_type": "execute_result"
    }
   ],
   "source": [
    "from sklearn.neighbors import KNeighborsClassifier\n",
    "\n",
    "# Create k-NN classifier\n",
    "KNeighborsClassifier(\n",
    "    n_jobs=-1 # As many parallel jobs as possible\n",
    ")"
   ]
  },
  {
   "cell_type": "markdown",
   "id": "639fa756",
   "metadata": {},
   "source": [
    "### load images"
   ]
  },
  {
   "cell_type": "code",
   "execution_count": 16,
   "id": "c386d645",
   "metadata": {},
   "outputs": [
    {
     "name": "stdout",
     "output_type": "stream",
     "text": [
      "x: [[ 59  62  63 ... 123  92  72]\n",
      " [154 177 187 ... 143 133 144]\n",
      " [255 255 255 ...  80  86  84]\n",
      " ...\n",
      " [250 253 254 ... 240 233 229]\n",
      " [136 167 138 ...  31  82  35]\n",
      " [170 182 189 ...  92 109 118]]\n",
      "y: [6 9 9 ... 9 4 8]\n"
     ]
    }
   ],
   "source": [
    "with np.load('Course 4\\cifar10-6k.npz', allow_pickle=False) as npz_file:\n",
    "    # Load the arrays\n",
    "    X = npz_file['data']\n",
    "    y = npz_file['labels']\n",
    "\n",
    "print('x:', X) # [6.28, 2.719, 1.]\n",
    "print('y:', y) # [2, 3, 5]"
   ]
  },
  {
   "cell_type": "code",
   "execution_count": 17,
   "id": "b562c5ac",
   "metadata": {},
   "outputs": [
    {
     "data": {
      "text/plain": [
       "(6000, 3072)"
      ]
     },
     "execution_count": 17,
     "metadata": {},
     "output_type": "execute_result"
    }
   ],
   "source": [
    "X.shape"
   ]
  },
  {
   "cell_type": "code",
   "execution_count": 18,
   "id": "f9b35d5e",
   "metadata": {},
   "outputs": [
    {
     "data": {
      "text/plain": [
       "(6000,)"
      ]
     },
     "execution_count": 18,
     "metadata": {},
     "output_type": "execute_result"
    }
   ],
   "source": [
    "y.shape"
   ]
  },
  {
   "cell_type": "code",
   "execution_count": 19,
   "id": "4f754079",
   "metadata": {},
   "outputs": [],
   "source": [
    "X = X.astype(np.float)"
   ]
  },
  {
   "cell_type": "code",
   "execution_count": 20,
   "id": "b8470858",
   "metadata": {},
   "outputs": [],
   "source": [
    "from sklearn.model_selection import train_test_split\n",
    "\n",
    "X_tr, X_te, y_tr, y_te = train_test_split(X, y, test_size=1000, random_state=0)"
   ]
  },
  {
   "cell_type": "code",
   "execution_count": 21,
   "id": "96fe2985",
   "metadata": {},
   "outputs": [
    {
     "data": {
      "text/plain": [
       "8    0.103333\n",
       "2    0.103167\n",
       "6    0.102667\n",
       "9    0.102167\n",
       "4    0.101833\n",
       "0    0.101667\n",
       "7    0.099500\n",
       "5    0.097167\n",
       "3    0.096667\n",
       "1    0.091833\n",
       "dtype: float64"
      ]
     },
     "execution_count": 21,
     "metadata": {},
     "output_type": "execute_result"
    }
   ],
   "source": [
    "import pandas as pd\n",
    "pd.value_counts(y, normalize=True)"
   ]
  },
  {
   "cell_type": "markdown",
   "id": "0b2da03a",
   "metadata": {},
   "source": [
    "### Check images"
   ]
  },
  {
   "cell_type": "code",
   "execution_count": 22,
   "id": "1a9e1449",
   "metadata": {},
   "outputs": [],
   "source": [
    "flat_img = X[5,:]"
   ]
  },
  {
   "cell_type": "code",
   "execution_count": 23,
   "id": "0e819b5a",
   "metadata": {},
   "outputs": [
    {
     "data": {
      "text/plain": [
       "(3072,)"
      ]
     },
     "execution_count": 23,
     "metadata": {},
     "output_type": "execute_result"
    }
   ],
   "source": [
    "flat_img.shape"
   ]
  },
  {
   "cell_type": "code",
   "execution_count": 24,
   "id": "ec8d0e13",
   "metadata": {},
   "outputs": [],
   "source": [
    "img = flat_img.reshape(32,32,3)"
   ]
  },
  {
   "cell_type": "code",
   "execution_count": 25,
   "id": "9a107f3c",
   "metadata": {},
   "outputs": [
    {
     "data": {
      "text/plain": [
       "(32, 32, 3)"
      ]
     },
     "execution_count": 25,
     "metadata": {},
     "output_type": "execute_result"
    }
   ],
   "source": [
    "img.shape"
   ]
  },
  {
   "cell_type": "code",
   "execution_count": 26,
   "id": "1fd3981b",
   "metadata": {},
   "outputs": [
    {
     "data": {
      "image/png": "[encoded data removed]",
      "text/plain": [
       "<Figure size 432x288 with 1 Axes>"
      ]
     },
     "metadata": {
      "needs_background": "light"
     },
     "output_type": "display_data"
    }
   ],
   "source": [
    "%matplotlib inline\n",
    "import matplotlib.pyplot as plt\n",
    "\n",
    "plt.imshow(img/255)\n",
    "plt.title(y[5])\n",
    "plt.show()"
   ]
  },
  {
   "cell_type": "markdown",
   "id": "3c145b3e",
   "metadata": {},
   "source": [
    "### Baseline"
   ]
  },
  {
   "cell_type": "code",
   "execution_count": 27,
   "id": "fcae1bfe",
   "metadata": {},
   "outputs": [],
   "source": [
    "from sklearn.dummy import DummyClassifier"
   ]
  },
  {
   "cell_type": "code",
   "execution_count": 28,
   "id": "6520e094",
   "metadata": {},
   "outputs": [],
   "source": [
    "dummy = DummyClassifier()"
   ]
  },
  {
   "cell_type": "code",
   "execution_count": 29,
   "id": "d7807755",
   "metadata": {},
   "outputs": [
    {
     "name": "stdout",
     "output_type": "stream",
     "text": [
      "Accuracy: 0.113\n"
     ]
    }
   ],
   "source": [
    "dummy.fit(X_tr,y_tr)\n",
    "\n",
    "accuracy = dummy.score(X_te, y_te)\n",
    "print('Accuracy:', accuracy)"
   ]
  },
  {
   "cell_type": "markdown",
   "id": "48ff4123",
   "metadata": {},
   "source": [
    "### k-NN classifier"
   ]
  },
  {
   "cell_type": "code",
   "execution_count": 30,
   "id": "d25c630d",
   "metadata": {},
   "outputs": [],
   "source": [
    "from sklearn.pipeline import Pipeline\n",
    "from sklearn.preprocessing import StandardScaler\n",
    "from sklearn.neighbors import KNeighborsClassifier\n",
    "from sklearn.model_selection import ParameterGrid"
   ]
  },
  {
   "cell_type": "code",
   "execution_count": 33,
   "id": "aa375959",
   "metadata": {},
   "outputs": [
    {
     "name": "stdout",
     "output_type": "stream",
     "text": [
      "k_values: [ 1  9 17 25]\n",
      "weights: ['uniform', 'distance']\n",
      "distances: [1, 2]\n",
      "Combinations: 16\n"
     ]
    }
   ],
   "source": [
    "# Create Pipeline\n",
    "knn_pipe = Pipeline([\n",
    "    ('scaler',StandardScaler()),\n",
    "    ('k_nn', KNeighborsClassifier(\n",
    "        algorithm='brute',\n",
    "        n_jobs=-1))\n",
    "])\n",
    "\n",
    "# Define values\n",
    "k_values = np.arange(1,30,8)\n",
    "weights = ['uniform','distance']\n",
    "distances = [1,2]\n",
    "print('k_values:',k_values)\n",
    "print('weights:',weights)\n",
    "print('distances:', distances)\n",
    "\n",
    "# Create grid\n",
    "grid = ParameterGrid({\n",
    "    'k_nn__n_neighbors':k_values,\n",
    "    'k_nn__weights':weights,\n",
    "    'k_nn__p': distances\n",
    "})\n",
    "print('Combinations:', len(grid))\n",
    "\n",
    "# Save accuracy on test set\n",
    "results = []\n",
    "\n",
    "# Run classifier\n",
    "for params_dict in grid:\n",
    "    knn_pipe.set_params(**params_dict)\n",
    "    \n",
    "    knn_pipe.fit(X_tr, y_tr)\n",
    "    \n",
    "    params_dict['accuracy'] = knn_pipe.score(X_te, y_te)\n",
    "    \n",
    "    results.append(params_dict)"
   ]
  },
  {
   "cell_type": "code",
   "execution_count": 32,
   "id": "f2d357f5",
   "metadata": {},
   "outputs": [],
   "source": [
    "#knn_pipe.get_params() #if need to identify parameters"
   ]
  },
  {
   "cell_type": "code",
   "execution_count": 34,
   "id": "23465bc9",
   "metadata": {},
   "outputs": [],
   "source": [
    "results_df = pd.DataFrame(results)"
   ]
  },
  {
   "cell_type": "code",
   "execution_count": 36,
   "id": "1b80d880",
   "metadata": {},
   "outputs": [
    {
     "data": {
      "text/html": [
       "<div>\n",
       "<style scoped>\n",
       "    .dataframe tbody tr th:only-of-type {\n",
       "        vertical-align: middle;\n",
       "    }\n",
       "\n",
       "    .dataframe tbody tr th {\n",
       "        vertical-align: top;\n",
       "    }\n",
       "\n",
       "    .dataframe thead th {\n",
       "        text-align: right;\n",
       "    }\n",
       "</style>\n",
       "<table border=\"1\" class=\"dataframe\">\n",
       "  <thead>\n",
       "    <tr style=\"text-align: right;\">\n",
       "      <th></th>\n",
       "      <th>accuracy</th>\n",
       "      <th>k_nn__n_neighbors</th>\n",
       "      <th>k_nn__p</th>\n",
       "      <th>k_nn__weights</th>\n",
       "    </tr>\n",
       "  </thead>\n",
       "  <tbody>\n",
       "    <tr>\n",
       "      <th>5</th>\n",
       "      <td>0.344</td>\n",
       "      <td>9</td>\n",
       "      <td>1</td>\n",
       "      <td>distance</td>\n",
       "    </tr>\n",
       "    <tr>\n",
       "      <th>13</th>\n",
       "      <td>0.325</td>\n",
       "      <td>25</td>\n",
       "      <td>1</td>\n",
       "      <td>distance</td>\n",
       "    </tr>\n",
       "    <tr>\n",
       "      <th>9</th>\n",
       "      <td>0.323</td>\n",
       "      <td>17</td>\n",
       "      <td>1</td>\n",
       "      <td>distance</td>\n",
       "    </tr>\n",
       "    <tr>\n",
       "      <th>4</th>\n",
       "      <td>0.322</td>\n",
       "      <td>9</td>\n",
       "      <td>1</td>\n",
       "      <td>uniform</td>\n",
       "    </tr>\n",
       "    <tr>\n",
       "      <th>8</th>\n",
       "      <td>0.312</td>\n",
       "      <td>17</td>\n",
       "      <td>1</td>\n",
       "      <td>uniform</td>\n",
       "    </tr>\n",
       "    <tr>\n",
       "      <th>12</th>\n",
       "      <td>0.308</td>\n",
       "      <td>25</td>\n",
       "      <td>1</td>\n",
       "      <td>uniform</td>\n",
       "    </tr>\n",
       "    <tr>\n",
       "      <th>0</th>\n",
       "      <td>0.298</td>\n",
       "      <td>1</td>\n",
       "      <td>1</td>\n",
       "      <td>uniform</td>\n",
       "    </tr>\n",
       "    <tr>\n",
       "      <th>1</th>\n",
       "      <td>0.298</td>\n",
       "      <td>1</td>\n",
       "      <td>1</td>\n",
       "      <td>distance</td>\n",
       "    </tr>\n",
       "    <tr>\n",
       "      <th>7</th>\n",
       "      <td>0.292</td>\n",
       "      <td>9</td>\n",
       "      <td>2</td>\n",
       "      <td>distance</td>\n",
       "    </tr>\n",
       "    <tr>\n",
       "      <th>11</th>\n",
       "      <td>0.290</td>\n",
       "      <td>17</td>\n",
       "      <td>2</td>\n",
       "      <td>distance</td>\n",
       "    </tr>\n",
       "    <tr>\n",
       "      <th>15</th>\n",
       "      <td>0.287</td>\n",
       "      <td>25</td>\n",
       "      <td>2</td>\n",
       "      <td>distance</td>\n",
       "    </tr>\n",
       "    <tr>\n",
       "      <th>14</th>\n",
       "      <td>0.283</td>\n",
       "      <td>25</td>\n",
       "      <td>2</td>\n",
       "      <td>uniform</td>\n",
       "    </tr>\n",
       "    <tr>\n",
       "      <th>10</th>\n",
       "      <td>0.281</td>\n",
       "      <td>17</td>\n",
       "      <td>2</td>\n",
       "      <td>uniform</td>\n",
       "    </tr>\n",
       "    <tr>\n",
       "      <th>6</th>\n",
       "      <td>0.277</td>\n",
       "      <td>9</td>\n",
       "      <td>2</td>\n",
       "      <td>uniform</td>\n",
       "    </tr>\n",
       "    <tr>\n",
       "      <th>2</th>\n",
       "      <td>0.271</td>\n",
       "      <td>1</td>\n",
       "      <td>2</td>\n",
       "      <td>uniform</td>\n",
       "    </tr>\n",
       "    <tr>\n",
       "      <th>3</th>\n",
       "      <td>0.271</td>\n",
       "      <td>1</td>\n",
       "      <td>2</td>\n",
       "      <td>distance</td>\n",
       "    </tr>\n",
       "  </tbody>\n",
       "</table>\n",
       "</div>"
      ],
      "text/plain": [
       "    accuracy  k_nn__n_neighbors  k_nn__p k_nn__weights\n",
       "5      0.344                  9        1      distance\n",
       "13     0.325                 25        1      distance\n",
       "9      0.323                 17        1      distance\n",
       "4      0.322                  9        1       uniform\n",
       "8      0.312                 17        1       uniform\n",
       "12     0.308                 25        1       uniform\n",
       "0      0.298                  1        1       uniform\n",
       "1      0.298                  1        1      distance\n",
       "7      0.292                  9        2      distance\n",
       "11     0.290                 17        2      distance\n",
       "15     0.287                 25        2      distance\n",
       "14     0.283                 25        2       uniform\n",
       "10     0.281                 17        2       uniform\n",
       "6      0.277                  9        2       uniform\n",
       "2      0.271                  1        2       uniform\n",
       "3      0.271                  1        2      distance"
      ]
     },
     "execution_count": 36,
     "metadata": {},
     "output_type": "execute_result"
    }
   ],
   "source": [
    "results_df.sort_values(by='accuracy', ascending=False)"
   ]
  },
  {
   "cell_type": "code",
   "execution_count": 38,
   "id": "36fec67e",
   "metadata": {},
   "outputs": [
    {
     "name": "stdout",
     "output_type": "stream",
     "text": [
      "Combinations: 5\n"
     ]
    }
   ],
   "source": [
    "# Refine search and grid\n",
    "\n",
    "# Create Pipeline\n",
    "knn_pipe2 = Pipeline([\n",
    "    ('scaler',StandardScaler()),\n",
    "    ('k_nn', KNeighborsClassifier(\n",
    "        weights='distance',\n",
    "        algorithm='brute',\n",
    "        p=1,\n",
    "        n_jobs=-1))\n",
    "])\n",
    "\n",
    "# Create grid\n",
    "grid2 = ParameterGrid({\n",
    "    'k_nn__n_neighbors':np.arange(5,15,2)\n",
    "})\n",
    "print('Combinations:', len(grid2))\n",
    "\n",
    "# Save accuracy on test set\n",
    "results_refined = []\n",
    "\n",
    "# Run classifier\n",
    "for params_dict in grid2:\n",
    "    knn_pipe2.set_params(**params_dict)\n",
    "    \n",
    "    knn_pipe2.fit(X_tr, y_tr)\n",
    "    \n",
    "    params_dict['accuracy'] = knn_pipe2.score(X_te, y_te)\n",
    "    \n",
    "    results_refined.append(params_dict)"
   ]
  },
  {
   "cell_type": "code",
   "execution_count": 39,
   "id": "ea5fd18e",
   "metadata": {},
   "outputs": [
    {
     "data": {
      "text/html": [
       "<div>\n",
       "<style scoped>\n",
       "    .dataframe tbody tr th:only-of-type {\n",
       "        vertical-align: middle;\n",
       "    }\n",
       "\n",
       "    .dataframe tbody tr th {\n",
       "        vertical-align: top;\n",
       "    }\n",
       "\n",
       "    .dataframe thead th {\n",
       "        text-align: right;\n",
       "    }\n",
       "</style>\n",
       "<table border=\"1\" class=\"dataframe\">\n",
       "  <thead>\n",
       "    <tr style=\"text-align: right;\">\n",
       "      <th></th>\n",
       "      <th>accuracy</th>\n",
       "      <th>k_nn__n_neighbors</th>\n",
       "    </tr>\n",
       "  </thead>\n",
       "  <tbody>\n",
       "    <tr>\n",
       "      <th>2</th>\n",
       "      <td>0.344</td>\n",
       "      <td>9</td>\n",
       "    </tr>\n",
       "    <tr>\n",
       "      <th>3</th>\n",
       "      <td>0.333</td>\n",
       "      <td>11</td>\n",
       "    </tr>\n",
       "    <tr>\n",
       "      <th>1</th>\n",
       "      <td>0.332</td>\n",
       "      <td>7</td>\n",
       "    </tr>\n",
       "    <tr>\n",
       "      <th>4</th>\n",
       "      <td>0.324</td>\n",
       "      <td>13</td>\n",
       "    </tr>\n",
       "    <tr>\n",
       "      <th>0</th>\n",
       "      <td>0.318</td>\n",
       "      <td>5</td>\n",
       "    </tr>\n",
       "  </tbody>\n",
       "</table>\n",
       "</div>"
      ],
      "text/plain": [
       "   accuracy  k_nn__n_neighbors\n",
       "2     0.344                  9\n",
       "3     0.333                 11\n",
       "1     0.332                  7\n",
       "4     0.324                 13\n",
       "0     0.318                  5"
      ]
     },
     "execution_count": 39,
     "metadata": {},
     "output_type": "execute_result"
    }
   ],
   "source": [
    "results_refined_df = pd.DataFrame(results_refined)\n",
    "results_refined_df.sort_values(by='accuracy', ascending=False)"
   ]
  }
 ],
 "metadata": {
  "kernelspec": {
   "display_name": "Python 3",
   "language": "python",
   "name": "python3"
  },
  "language_info": {
   "codemirror_mode": {
    "name": "ipython",
    "version": 3
   },
   "file_extension": ".py",
   "mimetype": "text/x-python",
   "name": "python",
   "nbconvert_exporter": "python",
   "pygments_lexer": "ipython3",
   "version": "3.6.10"
  }
 },
 "nbformat": 4,
 "nbformat_minor": 5
}
