{
 "cells": [
  {
   "cell_type": "markdown",
   "metadata": {},
   "source": [
    "### (G) Dense network\n",
    "\n",
    "#### Instructions\n",
    "\n",
    "Try with neural networks\n",
    "\n",
    "1. **1-layer** dense network i.e. no hidden layer, just the input and output ones\n",
    "2. **2-layer** dense network i.e. one hidden layer\n",
    "\n",
    "**Note:** *It is up to you if you want to implement your neural networks for this and the next task with TensorFlow's low-level graph API or the Keras API.* **Our recommendation is to practise your knowledge of the Keras API, as this approach is quicker to implement, more straight forward to read and most importantly, the Keras API is since TensorFlow version 2.0 also the preferred API of TensorFlow itself.**\n",
    "\n",
    "#### Load data"
   ]
  },
  {
   "cell_type": "code",
   "execution_count": 1,
   "metadata": {},
   "outputs": [],
   "source": [
    "import numpy as np\n",
    "import pandas as pd"
   ]
  },
  {
   "cell_type": "code",
   "execution_count": 2,
   "metadata": {},
   "outputs": [
    {
     "name": "stdout",
     "output_type": "stream",
     "text": [
      "features_tr: (280, 2048)\n",
      "labels_tr: (280,)\n",
      "features_va: (139, 2048)\n",
      "labels_va: (139,)\n",
      "features_te: (50, 2048)\n",
      "labels_te: (50,)\n",
      "imgs_tr: (280, 299, 299, 3)\n",
      "imgs_va: (139, 299, 299, 3)\n",
      "imgs_te: (50, 299, 299, 3)\n"
     ]
    }
   ],
   "source": [
    "with np.load('swissroads_highlevel_features.npz', allow_pickle=False) as npz_file:\n",
    "    # Load the arrays\n",
    "    features_tr = npz_file['features_train']\n",
    "    labels_tr = npz_file['labels_train']\n",
    "    features_va = npz_file['features_valid']\n",
    "    labels_va = npz_file['labels_valid']\n",
    "    features_te = npz_file['features_test']\n",
    "    labels_te = npz_file['labels_test']\n",
    "    imgs_tr = npz_file['imgs_train']\n",
    "    imgs_va = npz_file['imgs_valid']\n",
    "    imgs_te = npz_file['imgs_test']\n",
    "\n",
    "print('features_tr:', features_tr.shape)\n",
    "print('labels_tr:', labels_tr.shape)\n",
    "print('features_va:', features_va.shape)\n",
    "print('labels_va:', labels_va.shape)\n",
    "print('features_te:', features_te.shape)\n",
    "print('labels_te:', labels_te.shape)\n",
    "print('imgs_tr:', imgs_tr.shape)\n",
    "print('imgs_va:', imgs_va.shape)\n",
    "print('imgs_te:', imgs_te.shape)"
   ]
  },
  {
   "cell_type": "code",
   "execution_count": 3,
   "metadata": {},
   "outputs": [],
   "source": [
    "X_tr = features_tr\n",
    "X_va = features_va\n",
    "X_te = features_te\n",
    "y_tr = labels_tr\n",
    "y_va = labels_va\n",
    "y_te = labels_te\n",
    "labels = ['bike','car','motorcycle','other','truck','van']"
   ]
  },
  {
   "cell_type": "markdown",
   "metadata": {},
   "source": [
    "### Task G"
   ]
  },
  {
   "cell_type": "code",
   "execution_count": 4,
   "metadata": {},
   "outputs": [
    {
     "name": "stderr",
     "output_type": "stream",
     "text": [
      "C:\\Users\\glaurent\\AppData\\Local\\Continuum\\anaconda3\\envs\\exts-ml\\lib\\site-packages\\h5py\\__init__.py:36: FutureWarning: Conversion of the second argument of issubdtype from `float` to `np.floating` is deprecated. In future, it will be treated as `np.float64 == np.dtype(float).type`.\n",
      "  from ._conv import register_converters as _register_converters\n"
     ]
    }
   ],
   "source": [
    "import tensorflow as tf\n",
    "from tensorflow.keras import Sequential\n",
    "from tensorflow.keras.layers import Dense"
   ]
  },
  {
   "cell_type": "markdown",
   "metadata": {},
   "source": [
    "#### i) single layer Dense Network (using Keras)"
   ]
  },
  {
   "cell_type": "code",
   "execution_count": 5,
   "metadata": {},
   "outputs": [
    {
     "name": "stdout",
     "output_type": "stream",
     "text": [
      "_________________________________________________________________\n",
      "Layer (type)                 Output Shape              Param #   \n",
      "=================================================================\n",
      "dense (Dense)                (None, 6)                 12294     \n",
      "=================================================================\n",
      "Total params: 12,294\n",
      "Trainable params: 12,294\n",
      "Non-trainable params: 0\n",
      "_________________________________________________________________\n"
     ]
    }
   ],
   "source": [
    "model = Sequential()\n",
    "#model.add(Dense(16,activation='relu', input_dim=2048))\n",
    "model.add(Dense(6, activation='softmax',input_dim=2048))\n",
    "model.summary()"
   ]
  },
  {
   "cell_type": "code",
   "execution_count": 6,
   "metadata": {},
   "outputs": [],
   "source": [
    "from tensorflow.keras import optimizers\n",
    "from tensorflow.keras import losses\n",
    "from tensorflow.keras import metrics\n",
    "\n",
    "# Define loss function, optimizer, and metrics to track during training\n",
    "model.compile(\n",
    "    optimizer='sgd', # .. or optimizers.SGD(lr=0.01)\n",
    "    loss='sparse_categorical_crossentropy', # .. or losses.sparse_categorical_crossentropy\n",
    "    metrics=['acc'] # .. or metrics.sparse_categorical_accuracy\n",
    ")"
   ]
  },
  {
   "cell_type": "code",
   "execution_count": 7,
   "metadata": {},
   "outputs": [],
   "source": [
    "from sklearn.preprocessing import StandardScaler\n",
    "scaler = StandardScaler()\n",
    "X_tr_rescaled = scaler.fit_transform(X_tr)\n",
    "X_va_rescaled = scaler.transform(X_va)\n",
    "X_te_rescaled = scaler.transform(X_te)"
   ]
  },
  {
   "cell_type": "code",
   "execution_count": 8,
   "metadata": {},
   "outputs": [
    {
     "name": "stdout",
     "output_type": "stream",
     "text": [
      "Train on 280 samples, validate on 139 samples\n",
      "Epoch 1/50\n",
      "280/280 [==============================] - 0s 579us/step - loss: 1.0363 - acc: 0.6500 - val_loss: 0.4609 - val_acc: 0.8561\n",
      "Epoch 2/50\n",
      "280/280 [==============================] - 0s 46us/step - loss: 0.3337 - acc: 0.9036 - val_loss: 0.3556 - val_acc: 0.8849\n",
      "Epoch 3/50\n",
      "280/280 [==============================] - 0s 54us/step - loss: 0.2152 - acc: 0.9393 - val_loss: 0.3193 - val_acc: 0.8993\n",
      "Epoch 4/50\n",
      "280/280 [==============================] - 0s 61us/step - loss: 0.1607 - acc: 0.9500 - val_loss: 0.3024 - val_acc: 0.9065\n",
      "Epoch 5/50\n",
      "280/280 [==============================] - 0s 53us/step - loss: 0.1240 - acc: 0.9607 - val_loss: 0.2915 - val_acc: 0.9065\n",
      "Epoch 6/50\n",
      "280/280 [==============================] - 0s 64us/step - loss: 0.1001 - acc: 0.9714 - val_loss: 0.2844 - val_acc: 0.9065\n",
      "Epoch 7/50\n",
      "280/280 [==============================] - 0s 61us/step - loss: 0.0823 - acc: 0.9857 - val_loss: 0.2789 - val_acc: 0.9065\n",
      "Epoch 8/50\n",
      "280/280 [==============================] - 0s 57us/step - loss: 0.0686 - acc: 0.9893 - val_loss: 0.2740 - val_acc: 0.9137\n",
      "Epoch 9/50\n",
      "280/280 [==============================] - 0s 64us/step - loss: 0.0593 - acc: 0.9964 - val_loss: 0.2719 - val_acc: 0.9137\n",
      "Epoch 10/50\n",
      "280/280 [==============================] - 0s 68us/step - loss: 0.0514 - acc: 0.9964 - val_loss: 0.2697 - val_acc: 0.9137\n",
      "Epoch 11/50\n",
      "280/280 [==============================] - 0s 61us/step - loss: 0.0454 - acc: 0.9964 - val_loss: 0.2704 - val_acc: 0.9137\n",
      "Epoch 12/50\n",
      "280/280 [==============================] - 0s 61us/step - loss: 0.0411 - acc: 1.0000 - val_loss: 0.2676 - val_acc: 0.9137\n",
      "Epoch 13/50\n",
      "280/280 [==============================] - 0s 68us/step - loss: 0.0368 - acc: 1.0000 - val_loss: 0.2650 - val_acc: 0.9137\n",
      "Epoch 14/50\n",
      "280/280 [==============================] - 0s 57us/step - loss: 0.0338 - acc: 1.0000 - val_loss: 0.2635 - val_acc: 0.9137\n",
      "Epoch 15/50\n",
      "280/280 [==============================] - 0s 57us/step - loss: 0.0310 - acc: 1.0000 - val_loss: 0.2631 - val_acc: 0.9137\n",
      "Epoch 16/50\n",
      "280/280 [==============================] - 0s 46us/step - loss: 0.0286 - acc: 1.0000 - val_loss: 0.2622 - val_acc: 0.9137\n",
      "Epoch 17/50\n",
      "280/280 [==============================] - 0s 54us/step - loss: 0.0266 - acc: 1.0000 - val_loss: 0.2620 - val_acc: 0.9137\n",
      "Epoch 18/50\n",
      "280/280 [==============================] - 0s 57us/step - loss: 0.0250 - acc: 1.0000 - val_loss: 0.2611 - val_acc: 0.9137\n",
      "Epoch 19/50\n",
      "280/280 [==============================] - 0s 57us/step - loss: 0.0234 - acc: 1.0000 - val_loss: 0.2606 - val_acc: 0.9137\n",
      "Epoch 20/50\n",
      "280/280 [==============================] - 0s 54us/step - loss: 0.0222 - acc: 1.0000 - val_loss: 0.2609 - val_acc: 0.9137\n",
      "Epoch 21/50\n",
      "280/280 [==============================] - 0s 57us/step - loss: 0.0210 - acc: 1.0000 - val_loss: 0.2610 - val_acc: 0.9137\n",
      "Epoch 22/50\n",
      "280/280 [==============================] - 0s 57us/step - loss: 0.0199 - acc: 1.0000 - val_loss: 0.2606 - val_acc: 0.9137\n",
      "Epoch 23/50\n",
      "280/280 [==============================] - 0s 61us/step - loss: 0.0190 - acc: 1.0000 - val_loss: 0.2604 - val_acc: 0.9065\n",
      "Epoch 24/50\n",
      "280/280 [==============================] - 0s 64us/step - loss: 0.0182 - acc: 1.0000 - val_loss: 0.2595 - val_acc: 0.9065\n",
      "Epoch 25/50\n",
      "280/280 [==============================] - 0s 64us/step - loss: 0.0175 - acc: 1.0000 - val_loss: 0.2595 - val_acc: 0.9065\n",
      "Epoch 26/50\n",
      "280/280 [==============================] - 0s 61us/step - loss: 0.0167 - acc: 1.0000 - val_loss: 0.2593 - val_acc: 0.9065\n",
      "Epoch 27/50\n",
      "280/280 [==============================] - 0s 64us/step - loss: 0.0160 - acc: 1.0000 - val_loss: 0.2592 - val_acc: 0.9065\n",
      "Epoch 28/50\n",
      "280/280 [==============================] - 0s 61us/step - loss: 0.0154 - acc: 1.0000 - val_loss: 0.2593 - val_acc: 0.9065\n",
      "Epoch 29/50\n",
      "280/280 [==============================] - 0s 54us/step - loss: 0.0148 - acc: 1.0000 - val_loss: 0.2593 - val_acc: 0.9065\n",
      "Epoch 30/50\n",
      "280/280 [==============================] - 0s 61us/step - loss: 0.0143 - acc: 1.0000 - val_loss: 0.2589 - val_acc: 0.9065\n",
      "Epoch 31/50\n",
      "280/280 [==============================] - 0s 57us/step - loss: 0.0138 - acc: 1.0000 - val_loss: 0.2587 - val_acc: 0.9065\n",
      "Epoch 32/50\n",
      "280/280 [==============================] - 0s 54us/step - loss: 0.0133 - acc: 1.0000 - val_loss: 0.2585 - val_acc: 0.9065\n",
      "Epoch 33/50\n",
      "280/280 [==============================] - 0s 57us/step - loss: 0.0130 - acc: 1.0000 - val_loss: 0.2584 - val_acc: 0.9065\n",
      "Epoch 34/50\n",
      "280/280 [==============================] - 0s 68us/step - loss: 0.0125 - acc: 1.0000 - val_loss: 0.2585 - val_acc: 0.9065\n",
      "Epoch 35/50\n",
      "280/280 [==============================] - 0s 61us/step - loss: 0.0121 - acc: 1.0000 - val_loss: 0.2587 - val_acc: 0.9065\n",
      "Epoch 36/50\n",
      "280/280 [==============================] - 0s 64us/step - loss: 0.0118 - acc: 1.0000 - val_loss: 0.2589 - val_acc: 0.9065\n",
      "Epoch 37/50\n",
      "280/280 [==============================] - 0s 189us/step - loss: 0.0114 - acc: 1.0000 - val_loss: 0.2588 - val_acc: 0.9065\n",
      "Epoch 38/50\n",
      "280/280 [==============================] - 0s 61us/step - loss: 0.0111 - acc: 1.0000 - val_loss: 0.2588 - val_acc: 0.9065\n",
      "Epoch 39/50\n",
      "280/280 [==============================] - 0s 57us/step - loss: 0.0108 - acc: 1.0000 - val_loss: 0.2589 - val_acc: 0.9065\n",
      "Epoch 40/50\n",
      "280/280 [==============================] - 0s 64us/step - loss: 0.0106 - acc: 1.0000 - val_loss: 0.2587 - val_acc: 0.9065\n",
      "Epoch 41/50\n",
      "280/280 [==============================] - 0s 68us/step - loss: 0.0103 - acc: 1.0000 - val_loss: 0.2589 - val_acc: 0.9065\n",
      "Epoch 42/50\n",
      "280/280 [==============================] - 0s 64us/step - loss: 0.0101 - acc: 1.0000 - val_loss: 0.2592 - val_acc: 0.9065\n",
      "Epoch 43/50\n",
      "280/280 [==============================] - 0s 64us/step - loss: 0.0098 - acc: 1.0000 - val_loss: 0.2593 - val_acc: 0.9065\n",
      "Epoch 44/50\n",
      "280/280 [==============================] - 0s 64us/step - loss: 0.0096 - acc: 1.0000 - val_loss: 0.2590 - val_acc: 0.9065\n",
      "Epoch 45/50\n",
      "280/280 [==============================] - 0s 68us/step - loss: 0.0094 - acc: 1.0000 - val_loss: 0.2590 - val_acc: 0.9065\n",
      "Epoch 46/50\n",
      "280/280 [==============================] - 0s 57us/step - loss: 0.0092 - acc: 1.0000 - val_loss: 0.2592 - val_acc: 0.9065\n",
      "Epoch 47/50\n",
      "280/280 [==============================] - 0s 68us/step - loss: 0.0089 - acc: 1.0000 - val_loss: 0.2593 - val_acc: 0.9065\n",
      "Epoch 48/50\n",
      "280/280 [==============================] - 0s 64us/step - loss: 0.0087 - acc: 1.0000 - val_loss: 0.2592 - val_acc: 0.9065\n",
      "Epoch 49/50\n",
      "280/280 [==============================] - 0s 61us/step - loss: 0.0086 - acc: 1.0000 - val_loss: 0.2593 - val_acc: 0.9065\n",
      "Epoch 50/50\n",
      "280/280 [==============================] - 0s 57us/step - loss: 0.0084 - acc: 1.0000 - val_loss: 0.2594 - val_acc: 0.9065\n"
     ]
    }
   ],
   "source": [
    "# Fit model\n",
    "history = model.fit(\n",
    "    x=X_tr_rescaled, y=y_tr,\n",
    "    validation_data=(X_va_rescaled, y_va), batch_size=32, epochs=50,\n",
    "    shuffle=True # Shuffle training samples\n",
    ")"
   ]
  },
  {
   "cell_type": "code",
   "execution_count": 9,
   "metadata": {},
   "outputs": [
    {
     "data": {
      "text/plain": [
       "dict_keys(['val_loss', 'val_acc', 'loss', 'acc'])"
      ]
     },
     "execution_count": 9,
     "metadata": {},
     "output_type": "execute_result"
    }
   ],
   "source": [
    "# The history object saved the scores during training\n",
    "history.history.keys()"
   ]
  },
  {
   "cell_type": "code",
   "execution_count": 10,
   "metadata": {},
   "outputs": [
    {
     "data": {
      "image/png": "[encoded data removed]",
      "text/plain": [
       "<Figure size 864x288 with 2 Axes>"
      ]
     },
     "metadata": {
      "needs_background": "light"
     },
     "output_type": "display_data"
    }
   ],
   "source": [
    "%matplotlib inline\n",
    "import matplotlib.pyplot as plt\n",
    "import numpy as np\n",
    "\n",
    "# Create two plots: one for the loss value, one for the accuracy\n",
    "fig, (ax1, ax2) = plt.subplots(nrows=1, ncols=2, figsize=(12, 4))\n",
    "\n",
    "# Plot accuracy values\n",
    "ax1.plot(history.history['loss'], label='train loss')\n",
    "ax1.plot(history.history['val_loss'], label='val loss')\n",
    "ax1.set_title('Validation loss {:.3f} (mean last 3)'.format(\n",
    "    np.mean(history.history['val_loss'][-3:]) # last three values\n",
    "))\n",
    "ax1.set_xlabel('epoch')\n",
    "ax1.set_ylabel('loss value')\n",
    "ax1.legend()\n",
    "\n",
    "# Plot accuracy values\n",
    "ax2.plot(history.history['acc'], label='train acc')\n",
    "ax2.plot(history.history['val_acc'], label='val acc')\n",
    "ax2.set_title('Validation accuracy {:.3f} (mean last 3)'.format(\n",
    "    np.mean(history.history['val_acc'][-3:]) # last three values\n",
    "))\n",
    "ax2.set_xlabel('epoch')\n",
    "ax2.set_ylabel('accuracy')\n",
    "ax2.legend()\n",
    "plt.show()"
   ]
  },
  {
   "cell_type": "code",
   "execution_count": 11,
   "metadata": {},
   "outputs": [
    {
     "name": "stdout",
     "output_type": "stream",
     "text": [
      "50/50 [==============================] - 0s 80us/step\n",
      "Test loss: 0.18\n",
      "Test accuracy: 92.00%\n"
     ]
    }
   ],
   "source": [
    "(test_loss, dense_1layer_accuracy) = model.evaluate(X_te_rescaled, y_te, batch_size=32)\n",
    "\n",
    "print('Test loss: {:.2f}'.format(test_loss))\n",
    "print('Test accuracy: {:.2f}%'.format(100*dense_1layer_accuracy))"
   ]
  },
  {
   "cell_type": "code",
   "execution_count": 12,
   "metadata": {},
   "outputs": [
    {
     "name": "stdout",
     "output_type": "stream",
     "text": [
      "Stored 'dense_1layer_accuracy' (float64)\n"
     ]
    }
   ],
   "source": [
    "%store dense_1layer_accuracy"
   ]
  },
  {
   "cell_type": "markdown",
   "metadata": {},
   "source": [
    "#### ii) 2-layers Dense Network (using Keras)"
   ]
  },
  {
   "cell_type": "code",
   "execution_count": 13,
   "metadata": {},
   "outputs": [
    {
     "name": "stdout",
     "output_type": "stream",
     "text": [
      "_________________________________________________________________\n",
      "Layer (type)                 Output Shape              Param #   \n",
      "=================================================================\n",
      "dense_1 (Dense)              (None, 24)                49176     \n",
      "_________________________________________________________________\n",
      "dense_2 (Dense)              (None, 6)                 150       \n",
      "=================================================================\n",
      "Total params: 49,326\n",
      "Trainable params: 49,326\n",
      "Non-trainable params: 0\n",
      "_________________________________________________________________\n"
     ]
    }
   ],
   "source": [
    "model2 = Sequential()\n",
    "model2.add(Dense(24,activation='relu', input_dim=2048))\n",
    "model2.add(Dense(6, activation='softmax'))\n",
    "model2.summary()"
   ]
  },
  {
   "cell_type": "code",
   "execution_count": 14,
   "metadata": {},
   "outputs": [],
   "source": [
    "# Define loss function, optimizer, and metrics to track during training\n",
    "model2.compile(\n",
    "    optimizer='sgd', # .. or optimizers.SGD(lr=0.01)\n",
    "    loss='sparse_categorical_crossentropy', # .. or losses.sparse_categorical_crossentropy\n",
    "    metrics=['acc'] # .. or metrics.sparse_categorical_accuracy\n",
    ")"
   ]
  },
  {
   "cell_type": "code",
   "execution_count": 15,
   "metadata": {},
   "outputs": [
    {
     "name": "stdout",
     "output_type": "stream",
     "text": [
      "Train on 280 samples, validate on 139 samples\n",
      "Epoch 1/50\n",
      "280/280 [==============================] - 0s 700us/step - loss: 1.3550 - acc: 0.5321 - val_loss: 0.5991 - val_acc: 0.8561\n",
      "Epoch 2/50\n",
      "280/280 [==============================] - 0s 68us/step - loss: 0.4583 - acc: 0.8929 - val_loss: 0.4309 - val_acc: 0.8993\n",
      "Epoch 3/50\n",
      "280/280 [==============================] - 0s 75us/step - loss: 0.2821 - acc: 0.9464 - val_loss: 0.3684 - val_acc: 0.8993\n",
      "Epoch 4/50\n",
      "280/280 [==============================] - 0s 82us/step - loss: 0.2044 - acc: 0.9643 - val_loss: 0.3399 - val_acc: 0.8993\n",
      "Epoch 5/50\n",
      "280/280 [==============================] - 0s 75us/step - loss: 0.1590 - acc: 0.9679 - val_loss: 0.3185 - val_acc: 0.9137\n",
      "Epoch 6/50\n",
      "280/280 [==============================] - 0s 104us/step - loss: 0.1297 - acc: 0.9821 - val_loss: 0.3050 - val_acc: 0.9137\n",
      "Epoch 7/50\n",
      "280/280 [==============================] - 0s 96us/step - loss: 0.1084 - acc: 0.9929 - val_loss: 0.2945 - val_acc: 0.9137\n",
      "Epoch 8/50\n",
      "280/280 [==============================] - 0s 75us/step - loss: 0.0921 - acc: 0.9929 - val_loss: 0.2890 - val_acc: 0.9209\n",
      "Epoch 9/50\n",
      "280/280 [==============================] - 0s 86us/step - loss: 0.0805 - acc: 0.9964 - val_loss: 0.2843 - val_acc: 0.9209\n",
      "Epoch 10/50\n",
      "280/280 [==============================] - 0s 82us/step - loss: 0.0709 - acc: 0.9964 - val_loss: 0.2812 - val_acc: 0.9209\n",
      "Epoch 11/50\n",
      "280/280 [==============================] - 0s 86us/step - loss: 0.0634 - acc: 0.9964 - val_loss: 0.2795 - val_acc: 0.9209\n",
      "Epoch 12/50\n",
      "280/280 [==============================] - 0s 75us/step - loss: 0.0574 - acc: 0.9964 - val_loss: 0.2781 - val_acc: 0.9209\n",
      "Epoch 13/50\n",
      "280/280 [==============================] - 0s 93us/step - loss: 0.0525 - acc: 0.9964 - val_loss: 0.2760 - val_acc: 0.9209\n",
      "Epoch 14/50\n",
      "280/280 [==============================] - 0s 68us/step - loss: 0.0484 - acc: 0.9964 - val_loss: 0.2751 - val_acc: 0.9209\n",
      "Epoch 15/50\n",
      "280/280 [==============================] - 0s 89us/step - loss: 0.0446 - acc: 0.9964 - val_loss: 0.2748 - val_acc: 0.9209\n",
      "Epoch 16/50\n",
      "280/280 [==============================] - 0s 71us/step - loss: 0.0417 - acc: 0.9964 - val_loss: 0.2730 - val_acc: 0.9209\n",
      "Epoch 17/50\n",
      "280/280 [==============================] - 0s 96us/step - loss: 0.0389 - acc: 0.9964 - val_loss: 0.2724 - val_acc: 0.9209\n",
      "Epoch 18/50\n",
      "280/280 [==============================] - 0s 82us/step - loss: 0.0366 - acc: 0.9964 - val_loss: 0.2722 - val_acc: 0.9209\n",
      "Epoch 19/50\n",
      "280/280 [==============================] - 0s 79us/step - loss: 0.0343 - acc: 1.0000 - val_loss: 0.2707 - val_acc: 0.9209\n",
      "Epoch 20/50\n",
      "280/280 [==============================] - 0s 86us/step - loss: 0.0325 - acc: 1.0000 - val_loss: 0.2703 - val_acc: 0.9209\n",
      "Epoch 21/50\n",
      "280/280 [==============================] - 0s 79us/step - loss: 0.0308 - acc: 1.0000 - val_loss: 0.2698 - val_acc: 0.9209\n",
      "Epoch 22/50\n",
      "280/280 [==============================] - 0s 71us/step - loss: 0.0292 - acc: 1.0000 - val_loss: 0.2694 - val_acc: 0.9209\n",
      "Epoch 23/50\n",
      "280/280 [==============================] - 0s 114us/step - loss: 0.0278 - acc: 1.0000 - val_loss: 0.2688 - val_acc: 0.9209\n",
      "Epoch 24/50\n",
      "280/280 [==============================] - 0s 129us/step - loss: 0.0265 - acc: 1.0000 - val_loss: 0.2687 - val_acc: 0.9209\n",
      "Epoch 25/50\n",
      "280/280 [==============================] - 0s 125us/step - loss: 0.0254 - acc: 1.0000 - val_loss: 0.2686 - val_acc: 0.9209\n",
      "Epoch 26/50\n",
      "280/280 [==============================] - 0s 104us/step - loss: 0.0243 - acc: 1.0000 - val_loss: 0.2688 - val_acc: 0.9209\n",
      "Epoch 27/50\n",
      "280/280 [==============================] - 0s 125us/step - loss: 0.0232 - acc: 1.0000 - val_loss: 0.2678 - val_acc: 0.9209\n",
      "Epoch 28/50\n",
      "280/280 [==============================] - 0s 93us/step - loss: 0.0223 - acc: 1.0000 - val_loss: 0.2683 - val_acc: 0.9209\n",
      "Epoch 29/50\n",
      "280/280 [==============================] - 0s 68us/step - loss: 0.0214 - acc: 1.0000 - val_loss: 0.2677 - val_acc: 0.9209\n",
      "Epoch 30/50\n",
      "280/280 [==============================] - 0s 68us/step - loss: 0.0206 - acc: 1.0000 - val_loss: 0.2683 - val_acc: 0.9209\n",
      "Epoch 31/50\n",
      "280/280 [==============================] - 0s 68us/step - loss: 0.0198 - acc: 1.0000 - val_loss: 0.2679 - val_acc: 0.9209\n",
      "Epoch 32/50\n",
      "280/280 [==============================] - 0s 75us/step - loss: 0.0191 - acc: 1.0000 - val_loss: 0.2681 - val_acc: 0.9209\n",
      "Epoch 33/50\n",
      "280/280 [==============================] - 0s 96us/step - loss: 0.0185 - acc: 1.0000 - val_loss: 0.2680 - val_acc: 0.9209\n",
      "Epoch 34/50\n",
      "280/280 [==============================] - 0s 89us/step - loss: 0.0179 - acc: 1.0000 - val_loss: 0.2683 - val_acc: 0.9209\n",
      "Epoch 35/50\n",
      "280/280 [==============================] - 0s 89us/step - loss: 0.0174 - acc: 1.0000 - val_loss: 0.2675 - val_acc: 0.9209\n",
      "Epoch 36/50\n",
      "280/280 [==============================] - 0s 96us/step - loss: 0.0168 - acc: 1.0000 - val_loss: 0.2677 - val_acc: 0.9209\n",
      "Epoch 37/50\n",
      "280/280 [==============================] - 0s 86us/step - loss: 0.0162 - acc: 1.0000 - val_loss: 0.2682 - val_acc: 0.9209\n",
      "Epoch 38/50\n",
      "280/280 [==============================] - 0s 86us/step - loss: 0.0158 - acc: 1.0000 - val_loss: 0.2681 - val_acc: 0.9209\n",
      "Epoch 39/50\n",
      "280/280 [==============================] - 0s 71us/step - loss: 0.0153 - acc: 1.0000 - val_loss: 0.2677 - val_acc: 0.9209\n",
      "Epoch 40/50\n",
      "280/280 [==============================] - 0s 93us/step - loss: 0.0148 - acc: 1.0000 - val_loss: 0.2682 - val_acc: 0.9209\n",
      "Epoch 41/50\n",
      "280/280 [==============================] - 0s 75us/step - loss: 0.0144 - acc: 1.0000 - val_loss: 0.2684 - val_acc: 0.9209\n",
      "Epoch 42/50\n",
      "280/280 [==============================] - 0s 68us/step - loss: 0.0140 - acc: 1.0000 - val_loss: 0.2685 - val_acc: 0.9209\n",
      "Epoch 43/50\n",
      "280/280 [==============================] - 0s 64us/step - loss: 0.0137 - acc: 1.0000 - val_loss: 0.2677 - val_acc: 0.9209\n",
      "Epoch 44/50\n",
      "280/280 [==============================] - 0s 71us/step - loss: 0.0133 - acc: 1.0000 - val_loss: 0.2679 - val_acc: 0.9209\n",
      "Epoch 45/50\n",
      "280/280 [==============================] - 0s 89us/step - loss: 0.0130 - acc: 1.0000 - val_loss: 0.2683 - val_acc: 0.9209\n",
      "Epoch 46/50\n",
      "280/280 [==============================] - 0s 86us/step - loss: 0.0126 - acc: 1.0000 - val_loss: 0.2684 - val_acc: 0.9209\n",
      "Epoch 47/50\n",
      "280/280 [==============================] - 0s 89us/step - loss: 0.0123 - acc: 1.0000 - val_loss: 0.2687 - val_acc: 0.9209\n",
      "Epoch 48/50\n",
      "280/280 [==============================] - 0s 100us/step - loss: 0.0120 - acc: 1.0000 - val_loss: 0.2689 - val_acc: 0.9209\n",
      "Epoch 49/50\n",
      "280/280 [==============================] - 0s 93us/step - loss: 0.0117 - acc: 1.0000 - val_loss: 0.2692 - val_acc: 0.9209\n",
      "Epoch 50/50\n",
      "280/280 [==============================] - 0s 82us/step - loss: 0.0115 - acc: 1.0000 - val_loss: 0.2693 - val_acc: 0.9209\n"
     ]
    }
   ],
   "source": [
    "# Fit model\n",
    "history2 = model2.fit(\n",
    "    x=X_tr_rescaled, y=y_tr,\n",
    "    validation_data=(X_va_rescaled, y_va), batch_size=32, epochs=50,\n",
    "    shuffle=True # Shuffle training samples\n",
    ")"
   ]
  },
  {
   "cell_type": "code",
   "execution_count": 16,
   "metadata": {},
   "outputs": [
    {
     "data": {
      "image/png": "[encoded data removed]",
      "text/plain": [
       "<Figure size 864x288 with 2 Axes>"
      ]
     },
     "metadata": {
      "needs_background": "light"
     },
     "output_type": "display_data"
    }
   ],
   "source": [
    "%matplotlib inline\n",
    "import matplotlib.pyplot as plt\n",
    "import numpy as np\n",
    "\n",
    "# Create two plots: one for the loss value, one for the accuracy\n",
    "fig, (ax1, ax2) = plt.subplots(nrows=1, ncols=2, figsize=(12, 4))\n",
    "\n",
    "# Plot accuracy values\n",
    "ax1.plot(history2.history['loss'], label='train loss')\n",
    "ax1.plot(history2.history['val_loss'], label='val loss')\n",
    "ax1.set_title('Validation loss {:.3f} (mean last 3)'.format(\n",
    "    np.mean(history2.history['val_loss'][-3:]) # last three values\n",
    "))\n",
    "ax1.set_xlabel('epoch')\n",
    "ax1.set_ylabel('loss value')\n",
    "ax1.legend()\n",
    "\n",
    "# Plot accuracy values\n",
    "ax2.plot(history2.history['acc'], label='train acc')\n",
    "ax2.plot(history2.history['val_acc'], label='val acc')\n",
    "ax2.set_title('Validation accuracy {:.3f} (mean last 3)'.format(\n",
    "    np.mean(history2.history['val_acc'][-3:]) # last three values\n",
    "))\n",
    "ax2.set_xlabel('epoch')\n",
    "ax2.set_ylabel('accuracy')\n",
    "ax2.legend()\n",
    "plt.show()"
   ]
  },
  {
   "cell_type": "code",
   "execution_count": 17,
   "metadata": {},
   "outputs": [
    {
     "name": "stdout",
     "output_type": "stream",
     "text": [
      "50/50 [==============================] - 0s 100us/step\n",
      "Test loss: 0.33\n",
      "Test accuracy: 88.00%\n"
     ]
    }
   ],
   "source": [
    "(test_loss_2, dense_2layers_accuracy) = model2.evaluate(X_te_rescaled, y_te, batch_size=32)\n",
    "\n",
    "print('Test loss: {:.2f}'.format(test_loss_2))\n",
    "print('Test accuracy: {:.2f}%'.format(100*dense_2layers_accuracy))"
   ]
  },
  {
   "cell_type": "code",
   "execution_count": 18,
   "metadata": {},
   "outputs": [
    {
     "name": "stdout",
     "output_type": "stream",
     "text": [
      "Stored 'dense_2layers_accuracy' (float64)\n"
     ]
    }
   ],
   "source": [
    "%store dense_2layers_accuracy"
   ]
  },
  {
   "cell_type": "markdown",
   "metadata": {},
   "source": [
    "#### Notes/Questions Task G (Greg)\n",
    "* Shall I use 'relu' activation in one layer Keras? *(cell 5)*\n",
    "* Shall I use seed to get replicable results? Can I set seed alone or need to through kernal initiliazer? *(cell 5)*\n",
    "* How shall I choose the number of units for 1st layer of 2 layer dense network? *(cell 13)*\n",
    "* How can we explain that 2 layers Dense network has lower accuracy than 1 layer? *(cell 17)*"
   ]
  },
  {
   "cell_type": "code",
   "execution_count": null,
   "metadata": {},
   "outputs": [],
   "source": []
  }
 ],
 "metadata": {
  "kernelspec": {
   "display_name": "Python 3",
   "language": "python",
   "name": "python3"
  },
  "language_info": {
   "codemirror_mode": {
    "name": "ipython",
    "version": 3
   },
   "file_extension": ".py",
   "mimetype": "text/x-python",
   "name": "python",
   "nbconvert_exporter": "python",
   "pygments_lexer": "ipython3",
   "version": "3.6.10"
  }
 },
 "nbformat": 4,
 "nbformat_minor": 4
}
