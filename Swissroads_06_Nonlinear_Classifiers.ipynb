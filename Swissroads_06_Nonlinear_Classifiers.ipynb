{
 "cells": [
  {
   "cell_type": "markdown",
   "metadata": {},
   "source": [
    "# Course project\n",
    "\n",
    "#### (F) Nonlinear classifiers\n",
    "\n",
    "#### Instructions\n",
    "\n",
    "Try with nonlinear classifiers, can you do better than the models from above?\n",
    "\n",
    "1. Try with a **random Forest**, does increasing the number of trees help?\n",
    "2. Try with **SVMs** - does the **RBF kernel** perform better than the **linear** one?"
   ]
  },
  {
   "cell_type": "code",
   "execution_count": 1,
   "metadata": {},
   "outputs": [],
   "source": [
    "import numpy as np\n",
    "import pandas as pd"
   ]
  },
  {
   "cell_type": "code",
   "execution_count": 2,
   "metadata": {},
   "outputs": [
    {
     "name": "stdout",
     "output_type": "stream",
     "text": [
      "features_tr: (280, 2048)\n",
      "labels_tr: (280,)\n",
      "features_va: (139, 2048)\n",
      "labels_va: (139,)\n",
      "features_te: (50, 2048)\n",
      "labels_te: (50,)\n",
      "imgs_tr: (280, 299, 299, 3)\n",
      "imgs_va: (139, 299, 299, 3)\n",
      "imgs_te: (50, 299, 299, 3)\n"
     ]
    }
   ],
   "source": [
    "with np.load('swissroads_highlevel_features.npz', allow_pickle=False) as npz_file:\n",
    "    # Load the arrays\n",
    "    features_tr = npz_file['features_train']\n",
    "    labels_tr = npz_file['labels_train']\n",
    "    features_va = npz_file['features_valid']\n",
    "    labels_va = npz_file['labels_valid']\n",
    "    features_te = npz_file['features_test']\n",
    "    labels_te = npz_file['labels_test']\n",
    "    imgs_tr = npz_file['imgs_train']\n",
    "    imgs_va = npz_file['imgs_valid']\n",
    "    imgs_te = npz_file['imgs_test']\n",
    "\n",
    "print('features_tr:', features_tr.shape)\n",
    "print('labels_tr:', labels_tr.shape)\n",
    "print('features_va:', features_va.shape)\n",
    "print('labels_va:', labels_va.shape)\n",
    "print('features_te:', features_te.shape)\n",
    "print('labels_te:', labels_te.shape)\n",
    "print('imgs_tr:', imgs_tr.shape)\n",
    "print('imgs_va:', imgs_va.shape)\n",
    "print('imgs_te:', imgs_te.shape)"
   ]
  },
  {
   "cell_type": "code",
   "execution_count": 3,
   "metadata": {},
   "outputs": [],
   "source": [
    "X_tr = features_tr\n",
    "X_va = features_va\n",
    "X_te = features_te\n",
    "y_tr = labels_tr\n",
    "y_va = labels_va\n",
    "y_te = labels_te\n",
    "labels = ['bike','car','motorcycle','other','truck','van']"
   ]
  },
  {
   "cell_type": "markdown",
   "metadata": {},
   "source": [
    "### Task F\n",
    "\n",
    "#### i) Random Forest"
   ]
  },
  {
   "cell_type": "code",
   "execution_count": 4,
   "metadata": {},
   "outputs": [],
   "source": [
    "from sklearn.ensemble import RandomForestClassifier"
   ]
  },
  {
   "cell_type": "code",
   "execution_count": 5,
   "metadata": {},
   "outputs": [
    {
     "name": "stderr",
     "output_type": "stream",
     "text": [
      "C:\\Users\\glaurent\\AppData\\Local\\Continuum\\anaconda3\\envs\\exts-ml\\lib\\site-packages\\sklearn\\ensemble\\forest.py:246: FutureWarning: The default value of n_estimators will change from 10 in version 0.20 to 100 in 0.22.\n",
      "  \"10 in version 0.20 to 100 in 0.22.\", FutureWarning)\n"
     ]
    },
    {
     "data": {
      "text/plain": [
       "0.8920863309352518"
      ]
     },
     "execution_count": 5,
     "metadata": {},
     "output_type": "execute_result"
    }
   ],
   "source": [
    "forest = RandomForestClassifier()\n",
    "forest.fit(X_tr, y_tr)\n",
    "forest.score(X_va, y_va)"
   ]
  },
  {
   "cell_type": "code",
   "execution_count": 6,
   "metadata": {},
   "outputs": [
    {
     "data": {
      "text/plain": [
       "<bound method BaseEstimator.get_params of RandomForestClassifier(bootstrap=True, class_weight=None, criterion='gini',\n",
       "            max_depth=None, max_features='auto', max_leaf_nodes=None,\n",
       "            min_impurity_decrease=0.0, min_impurity_split=None,\n",
       "            min_samples_leaf=1, min_samples_split=2,\n",
       "            min_weight_fraction_leaf=0.0, n_estimators=10, n_jobs=None,\n",
       "            oob_score=False, random_state=None, verbose=0,\n",
       "            warm_start=False)>"
      ]
     },
     "execution_count": 6,
     "metadata": {},
     "output_type": "execute_result"
    }
   ],
   "source": [
    "forest.get_params"
   ]
  },
  {
   "cell_type": "code",
   "execution_count": 7,
   "metadata": {},
   "outputs": [],
   "source": [
    "estimators = [1,3,5,7,9,11,13,15]\n",
    "trees = [2,4,6,8,10,12,14,16,18,20]\n",
    "forest_results = []\n",
    "\n",
    "for e in estimators:\n",
    "    for t in trees:\n",
    "        forest2 = RandomForestClassifier(n_estimators=e, criterion='gini', max_depth=t, random_state=1)\n",
    "        forest2.fit(X_tr, y_tr)\n",
    "        forest_results.append({\n",
    "            'estimators':e,\n",
    "            'depth':t,\n",
    "            'train_accuracy':forest2.score(X_tr, y_tr),\n",
    "            'valid_accuracy':forest2.score(X_va, y_va)\n",
    "        })"
   ]
  },
  {
   "cell_type": "code",
   "execution_count": 8,
   "metadata": {},
   "outputs": [
    {
     "data": {
      "text/html": [
       "<div>\n",
       "<style scoped>\n",
       "    .dataframe tbody tr th:only-of-type {\n",
       "        vertical-align: middle;\n",
       "    }\n",
       "\n",
       "    .dataframe tbody tr th {\n",
       "        vertical-align: top;\n",
       "    }\n",
       "\n",
       "    .dataframe thead th {\n",
       "        text-align: right;\n",
       "    }\n",
       "</style>\n",
       "<table border=\"1\" class=\"dataframe\">\n",
       "  <thead>\n",
       "    <tr style=\"text-align: right;\">\n",
       "      <th></th>\n",
       "      <th>depth</th>\n",
       "      <th>estimators</th>\n",
       "      <th>train_accuracy</th>\n",
       "      <th>valid_accuracy</th>\n",
       "    </tr>\n",
       "  </thead>\n",
       "  <tbody>\n",
       "    <tr>\n",
       "      <th>72</th>\n",
       "      <td>6</td>\n",
       "      <td>15</td>\n",
       "      <td>0.996429</td>\n",
       "      <td>0.928058</td>\n",
       "    </tr>\n",
       "    <tr>\n",
       "      <th>79</th>\n",
       "      <td>20</td>\n",
       "      <td>15</td>\n",
       "      <td>1.000000</td>\n",
       "      <td>0.920863</td>\n",
       "    </tr>\n",
       "    <tr>\n",
       "      <th>52</th>\n",
       "      <td>6</td>\n",
       "      <td>11</td>\n",
       "      <td>0.992857</td>\n",
       "      <td>0.920863</td>\n",
       "    </tr>\n",
       "    <tr>\n",
       "      <th>78</th>\n",
       "      <td>18</td>\n",
       "      <td>15</td>\n",
       "      <td>1.000000</td>\n",
       "      <td>0.920863</td>\n",
       "    </tr>\n",
       "    <tr>\n",
       "      <th>77</th>\n",
       "      <td>16</td>\n",
       "      <td>15</td>\n",
       "      <td>1.000000</td>\n",
       "      <td>0.920863</td>\n",
       "    </tr>\n",
       "    <tr>\n",
       "      <th>76</th>\n",
       "      <td>14</td>\n",
       "      <td>15</td>\n",
       "      <td>1.000000</td>\n",
       "      <td>0.920863</td>\n",
       "    </tr>\n",
       "    <tr>\n",
       "      <th>75</th>\n",
       "      <td>12</td>\n",
       "      <td>15</td>\n",
       "      <td>1.000000</td>\n",
       "      <td>0.920863</td>\n",
       "    </tr>\n",
       "    <tr>\n",
       "      <th>74</th>\n",
       "      <td>10</td>\n",
       "      <td>15</td>\n",
       "      <td>1.000000</td>\n",
       "      <td>0.920863</td>\n",
       "    </tr>\n",
       "    <tr>\n",
       "      <th>62</th>\n",
       "      <td>6</td>\n",
       "      <td>13</td>\n",
       "      <td>1.000000</td>\n",
       "      <td>0.920863</td>\n",
       "    </tr>\n",
       "    <tr>\n",
       "      <th>45</th>\n",
       "      <td>12</td>\n",
       "      <td>9</td>\n",
       "      <td>0.996429</td>\n",
       "      <td>0.920863</td>\n",
       "    </tr>\n",
       "    <tr>\n",
       "      <th>46</th>\n",
       "      <td>14</td>\n",
       "      <td>9</td>\n",
       "      <td>0.996429</td>\n",
       "      <td>0.920863</td>\n",
       "    </tr>\n",
       "    <tr>\n",
       "      <th>42</th>\n",
       "      <td>6</td>\n",
       "      <td>9</td>\n",
       "      <td>0.989286</td>\n",
       "      <td>0.920863</td>\n",
       "    </tr>\n",
       "    <tr>\n",
       "      <th>47</th>\n",
       "      <td>16</td>\n",
       "      <td>9</td>\n",
       "      <td>0.996429</td>\n",
       "      <td>0.920863</td>\n",
       "    </tr>\n",
       "    <tr>\n",
       "      <th>48</th>\n",
       "      <td>18</td>\n",
       "      <td>9</td>\n",
       "      <td>0.996429</td>\n",
       "      <td>0.920863</td>\n",
       "    </tr>\n",
       "    <tr>\n",
       "      <th>49</th>\n",
       "      <td>20</td>\n",
       "      <td>9</td>\n",
       "      <td>0.996429</td>\n",
       "      <td>0.920863</td>\n",
       "    </tr>\n",
       "    <tr>\n",
       "      <th>57</th>\n",
       "      <td>16</td>\n",
       "      <td>11</td>\n",
       "      <td>1.000000</td>\n",
       "      <td>0.913669</td>\n",
       "    </tr>\n",
       "    <tr>\n",
       "      <th>54</th>\n",
       "      <td>10</td>\n",
       "      <td>11</td>\n",
       "      <td>1.000000</td>\n",
       "      <td>0.913669</td>\n",
       "    </tr>\n",
       "    <tr>\n",
       "      <th>55</th>\n",
       "      <td>12</td>\n",
       "      <td>11</td>\n",
       "      <td>1.000000</td>\n",
       "      <td>0.913669</td>\n",
       "    </tr>\n",
       "    <tr>\n",
       "      <th>56</th>\n",
       "      <td>14</td>\n",
       "      <td>11</td>\n",
       "      <td>1.000000</td>\n",
       "      <td>0.913669</td>\n",
       "    </tr>\n",
       "    <tr>\n",
       "      <th>58</th>\n",
       "      <td>18</td>\n",
       "      <td>11</td>\n",
       "      <td>1.000000</td>\n",
       "      <td>0.913669</td>\n",
       "    </tr>\n",
       "  </tbody>\n",
       "</table>\n",
       "</div>"
      ],
      "text/plain": [
       "    depth  estimators  train_accuracy  valid_accuracy\n",
       "72      6          15        0.996429        0.928058\n",
       "79     20          15        1.000000        0.920863\n",
       "52      6          11        0.992857        0.920863\n",
       "78     18          15        1.000000        0.920863\n",
       "77     16          15        1.000000        0.920863\n",
       "76     14          15        1.000000        0.920863\n",
       "75     12          15        1.000000        0.920863\n",
       "74     10          15        1.000000        0.920863\n",
       "62      6          13        1.000000        0.920863\n",
       "45     12           9        0.996429        0.920863\n",
       "46     14           9        0.996429        0.920863\n",
       "42      6           9        0.989286        0.920863\n",
       "47     16           9        0.996429        0.920863\n",
       "48     18           9        0.996429        0.920863\n",
       "49     20           9        0.996429        0.920863\n",
       "57     16          11        1.000000        0.913669\n",
       "54     10          11        1.000000        0.913669\n",
       "55     12          11        1.000000        0.913669\n",
       "56     14          11        1.000000        0.913669\n",
       "58     18          11        1.000000        0.913669"
      ]
     },
     "execution_count": 8,
     "metadata": {},
     "output_type": "execute_result"
    }
   ],
   "source": [
    "pd.DataFrame(forest_results).sort_values(by='valid_accuracy', ascending=False).head(20)"
   ]
  },
  {
   "cell_type": "markdown",
   "metadata": {},
   "source": [
    "**Based on above grid search I decide to go with 'n_estimators = 9' and 'max_depth = 6' which seems to reach a strong accuracy while limiting depth and estimators which would risk over-fitting**"
   ]
  },
  {
   "cell_type": "code",
   "execution_count": 9,
   "metadata": {},
   "outputs": [
    {
     "name": "stdout",
     "output_type": "stream",
     "text": [
      "Accuracy RandomForest train set: 0.9892857142857143\n",
      "Accuracy RandomForest validation set: 0.8705035971223022\n",
      "Accuracy RandomForest test set: 0.88\n"
     ]
    }
   ],
   "source": [
    "forest_final = RandomForestClassifier(n_estimators=9, criterion='gini', max_depth=6)\n",
    "forest_final.fit(X_tr, y_tr)\n",
    "\n",
    "randomforest_train_score = forest_final.score(X_tr, y_tr)\n",
    "randomforest_valid_score = forest_final.score(X_va, y_va)\n",
    "randomforest_test_score = forest_final.score(X_te, y_te)\n",
    "\n",
    "print('Accuracy RandomForest train set:',randomforest_train_score)\n",
    "print('Accuracy RandomForest validation set:',randomforest_valid_score)\n",
    "print('Accuracy RandomForest test set:',randomforest_test_score)"
   ]
  },
  {
   "cell_type": "code",
   "execution_count": 10,
   "metadata": {},
   "outputs": [
    {
     "name": "stdout",
     "output_type": "stream",
     "text": [
      "Stored 'randomforest_test_score' (float64)\n"
     ]
    }
   ],
   "source": [
    "%store randomforest_test_score"
   ]
  },
  {
   "cell_type": "markdown",
   "metadata": {},
   "source": [
    "#### ii) SVMs (support vector Machine)"
   ]
  },
  {
   "cell_type": "code",
   "execution_count": 11,
   "metadata": {},
   "outputs": [],
   "source": [
    "from sklearn.svm import LinearSVC"
   ]
  },
  {
   "cell_type": "code",
   "execution_count": 12,
   "metadata": {},
   "outputs": [
    {
     "data": {
      "text/plain": [
       "0.920863309352518"
      ]
     },
     "execution_count": 12,
     "metadata": {},
     "output_type": "execute_result"
    }
   ],
   "source": [
    "linear = LinearSVC(C=1)\n",
    "linear.fit(X_tr, y_tr)\n",
    "linear.score(X_va, y_va)"
   ]
  },
  {
   "cell_type": "code",
   "execution_count": 13,
   "metadata": {},
   "outputs": [
    {
     "name": "stdout",
     "output_type": "stream",
     "text": [
      "Accuracy Linear SVM train 1.0\n",
      "Accuracy Linear SVM validation 0.920863309352518\n",
      "Accuracy Linear SVM test 0.92\n"
     ]
    }
   ],
   "source": [
    "svm_linear_train = linear.score(X_tr, y_tr)\n",
    "svm_linear_valid = linear.score(X_va, y_va)\n",
    "svm_linear_test = linear.score(X_te, y_te)\n",
    "\n",
    "print('Accuracy Linear SVM train',svm_linear_train)\n",
    "print('Accuracy Linear SVM validation',svm_linear_valid)\n",
    "print('Accuracy Linear SVM test',svm_linear_test)"
   ]
  },
  {
   "cell_type": "code",
   "execution_count": 14,
   "metadata": {},
   "outputs": [
    {
     "name": "stdout",
     "output_type": "stream",
     "text": [
      "Stored 'svm_linear_test' (float64)\n"
     ]
    }
   ],
   "source": [
    "%store svm_linear_test"
   ]
  },
  {
   "cell_type": "code",
   "execution_count": 15,
   "metadata": {},
   "outputs": [],
   "source": [
    "from sklearn.svm import SVC"
   ]
  },
  {
   "cell_type": "code",
   "execution_count": 16,
   "metadata": {},
   "outputs": [
    {
     "data": {
      "text/plain": [
       "0.23741007194244604"
      ]
     },
     "execution_count": 16,
     "metadata": {},
     "output_type": "execute_result"
    }
   ],
   "source": [
    "svc = SVC(C=1,kernel='rbf', gamma=1)\n",
    "svc.fit(X_tr, y_tr)\n",
    "svc.score(X_va, y_va)"
   ]
  },
  {
   "cell_type": "code",
   "execution_count": 17,
   "metadata": {},
   "outputs": [],
   "source": [
    "Cs  = [0.001, 0.01, 0.1, 1, 10, 100, 1000]\n",
    "gammas = [0.001, 0.01, 0.1, 1, 10, 100, 1000]\n",
    "\n",
    "svc_results = []\n",
    "for c in Cs:\n",
    "    for g in gammas:\n",
    "        svc2 = SVC(C=c, kernel='rbf', gamma=g)\n",
    "        svc2.fit(X_tr, y_tr)\n",
    "        svc_results.append({\n",
    "            'C':c,\n",
    "            'Gamma':g,\n",
    "            'train_accuracy':svc2.score(X_tr, y_tr),\n",
    "            'valid_accuracy':svc2.score(X_va, y_va)\n",
    "        })"
   ]
  },
  {
   "cell_type": "code",
   "execution_count": 18,
   "metadata": {},
   "outputs": [
    {
     "data": {
      "text/html": [
       "<div>\n",
       "<style scoped>\n",
       "    .dataframe tbody tr th:only-of-type {\n",
       "        vertical-align: middle;\n",
       "    }\n",
       "\n",
       "    .dataframe tbody tr th {\n",
       "        vertical-align: top;\n",
       "    }\n",
       "\n",
       "    .dataframe thead th {\n",
       "        text-align: right;\n",
       "    }\n",
       "</style>\n",
       "<table border=\"1\" class=\"dataframe\">\n",
       "  <thead>\n",
       "    <tr style=\"text-align: right;\">\n",
       "      <th></th>\n",
       "      <th>C</th>\n",
       "      <th>Gamma</th>\n",
       "      <th>train_accuracy</th>\n",
       "      <th>valid_accuracy</th>\n",
       "    </tr>\n",
       "  </thead>\n",
       "  <tbody>\n",
       "    <tr>\n",
       "      <th>28</th>\n",
       "      <td>10.0</td>\n",
       "      <td>0.001</td>\n",
       "      <td>1.000000</td>\n",
       "      <td>0.920863</td>\n",
       "    </tr>\n",
       "    <tr>\n",
       "      <th>22</th>\n",
       "      <td>1.0</td>\n",
       "      <td>0.010</td>\n",
       "      <td>1.000000</td>\n",
       "      <td>0.920863</td>\n",
       "    </tr>\n",
       "    <tr>\n",
       "      <th>21</th>\n",
       "      <td>1.0</td>\n",
       "      <td>0.001</td>\n",
       "      <td>0.953571</td>\n",
       "      <td>0.920863</td>\n",
       "    </tr>\n",
       "    <tr>\n",
       "      <th>42</th>\n",
       "      <td>1000.0</td>\n",
       "      <td>0.001</td>\n",
       "      <td>1.000000</td>\n",
       "      <td>0.913669</td>\n",
       "    </tr>\n",
       "    <tr>\n",
       "      <th>29</th>\n",
       "      <td>10.0</td>\n",
       "      <td>0.010</td>\n",
       "      <td>1.000000</td>\n",
       "      <td>0.913669</td>\n",
       "    </tr>\n",
       "    <tr>\n",
       "      <th>35</th>\n",
       "      <td>100.0</td>\n",
       "      <td>0.001</td>\n",
       "      <td>1.000000</td>\n",
       "      <td>0.913669</td>\n",
       "    </tr>\n",
       "    <tr>\n",
       "      <th>36</th>\n",
       "      <td>100.0</td>\n",
       "      <td>0.010</td>\n",
       "      <td>1.000000</td>\n",
       "      <td>0.913669</td>\n",
       "    </tr>\n",
       "    <tr>\n",
       "      <th>43</th>\n",
       "      <td>1000.0</td>\n",
       "      <td>0.010</td>\n",
       "      <td>1.000000</td>\n",
       "      <td>0.913669</td>\n",
       "    </tr>\n",
       "    <tr>\n",
       "      <th>15</th>\n",
       "      <td>0.1</td>\n",
       "      <td>0.010</td>\n",
       "      <td>0.750000</td>\n",
       "      <td>0.762590</td>\n",
       "    </tr>\n",
       "    <tr>\n",
       "      <th>14</th>\n",
       "      <td>0.1</td>\n",
       "      <td>0.001</td>\n",
       "      <td>0.614286</td>\n",
       "      <td>0.640288</td>\n",
       "    </tr>\n",
       "  </tbody>\n",
       "</table>\n",
       "</div>"
      ],
      "text/plain": [
       "         C  Gamma  train_accuracy  valid_accuracy\n",
       "28    10.0  0.001        1.000000        0.920863\n",
       "22     1.0  0.010        1.000000        0.920863\n",
       "21     1.0  0.001        0.953571        0.920863\n",
       "42  1000.0  0.001        1.000000        0.913669\n",
       "29    10.0  0.010        1.000000        0.913669\n",
       "35   100.0  0.001        1.000000        0.913669\n",
       "36   100.0  0.010        1.000000        0.913669\n",
       "43  1000.0  0.010        1.000000        0.913669\n",
       "15     0.1  0.010        0.750000        0.762590\n",
       "14     0.1  0.001        0.614286        0.640288"
      ]
     },
     "execution_count": 18,
     "metadata": {},
     "output_type": "execute_result"
    }
   ],
   "source": [
    "pd.DataFrame(svc_results).sort_values(by='valid_accuracy', ascending=False).head(10)"
   ]
  },
  {
   "cell_type": "code",
   "execution_count": 19,
   "metadata": {},
   "outputs": [
    {
     "name": "stdout",
     "output_type": "stream",
     "text": [
      "Accuracy SVM RBF train: 0.9535714285714286\n",
      "Accuracy SVM RBF validation: 0.920863309352518\n",
      "Accuracy SVM RBF test: 0.94\n"
     ]
    }
   ],
   "source": [
    "svc_final = SVC(C=1,kernel='rbf',gamma=0.001)\n",
    "svc_final.fit(X_tr, y_tr)\n",
    "svm_rbf_train = svc_final.score(X_tr, y_tr)\n",
    "svm_rbf_valid = svc_final.score(X_va, y_va)\n",
    "svm_rbf_test = svc_final.score(X_te, y_te)\n",
    "\n",
    "print('Accuracy SVM RBF train:',svm_rbf_train)\n",
    "print('Accuracy SVM RBF validation:',svm_rbf_valid)\n",
    "print('Accuracy SVM RBF test:',svm_rbf_test)"
   ]
  },
  {
   "cell_type": "code",
   "execution_count": 20,
   "metadata": {},
   "outputs": [
    {
     "name": "stdout",
     "output_type": "stream",
     "text": [
      "Stored 'svm_rbf_test' (float64)\n"
     ]
    }
   ],
   "source": [
    "%store svm_rbf_test"
   ]
  },
  {
   "cell_type": "markdown",
   "metadata": {},
   "source": [
    "#### Notes/Quesionts Task F (Greg)\n",
    "* Shall I have standardized data to input in RandomForest (I would think yes)? *(cell 4)*\n",
    "* Is it correct to say we don't need cross-validation with RandomForest because the number estimators are already doing the same job? *(cell 7)*\n",
    "* Why do we get to 100% train accuracy here and previous estimator (logistic regression)? Not enough data points and therefore over-fitting? *(cell 8)*\n",
    "* Why is accuracy so bad for RBF kernal without tuning parameters? *(cell 16)*\n",
    "* Could I use GridSearchCV for RandomForest or SVMs?"
   ]
  },
  {
   "cell_type": "code",
   "execution_count": null,
   "metadata": {},
   "outputs": [],
   "source": []
  }
 ],
 "metadata": {
  "kernelspec": {
   "display_name": "Python 3",
   "language": "python",
   "name": "python3"
  },
  "language_info": {
   "codemirror_mode": {
    "name": "ipython",
    "version": 3
   },
   "file_extension": ".py",
   "mimetype": "text/x-python",
   "name": "python",
   "nbconvert_exporter": "python",
   "pygments_lexer": "ipython3",
   "version": "3.6.10"
  }
 },
 "nbformat": 4,
 "nbformat_minor": 4
}
