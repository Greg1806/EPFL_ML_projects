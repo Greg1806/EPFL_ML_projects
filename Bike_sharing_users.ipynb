{
 "cells": [
  {
   "cell_type": "markdown",
   "id": "5ce700ca",
   "metadata": {},
   "source": [
    "# Bike sharing users perdiction\n",
    "\n",
    "## Bike sharing linear Regressoin (Part A)"
   ]
  },
  {
   "cell_type": "markdown",
   "id": "c090f60f",
   "metadata": {},
   "source": [
    "### Task instructions\n",
    "\n",
    "Our goal is to predict the number of casual users using the other variables.\n",
    "\n",
    "### Data description\n",
    "\n",
    "There are nine features and one target variable.\n",
    "\n",
    "* temp - normalized temperatures, i.e., range between zero and one\n",
    "* temp_C - temperatures in degrees Celcius\n",
    "* hum - humidity\n",
    "* windspeed - normalized wind speed, i.e., ranges between zero and one\n",
    "* atemp - apparent temperature which combines temperatures, wind speed and humidity\n",
    "* atemp_C - apparent temperature in degrees Celcius\n",
    "* yr - year: 0 for 2011 and 1 for 2012\n",
    "* workingday - whether it's a working day\n",
    "* holiday - whether it's a holiday\n",
    "* casual - the target variable: number of casual users, i.e., users not registered\n",
    "\n",
    "For this exercise, we ask you to detect and remove features that make the \n",
    "X\n",
    " matrix, with the column of ones, rank deficient. Also, you might want to remove nearly collinear features if you obtain better results without them."
   ]
  },
  {
   "cell_type": "code",
   "execution_count": 1,
   "id": "93c0c3d8",
   "metadata": {},
   "outputs": [],
   "source": [
    "import pandas as pd\n",
    "import os\n",
    "\n",
    "# Load data sets\n",
    "train_df = pd.read_csv('bike-train2.csv')\n",
    "test_df = pd.read_csv('bike-test2.csv')"
   ]
  },
  {
   "cell_type": "code",
   "execution_count": 2,
   "id": "e9e3554a",
   "metadata": {},
   "outputs": [
    {
     "data": {
      "text/plain": [
       "(365, 10)"
      ]
     },
     "execution_count": 2,
     "metadata": {},
     "output_type": "execute_result"
    }
   ],
   "source": [
    "# training shape\n",
    "train_df.shape"
   ]
  },
  {
   "cell_type": "code",
   "execution_count": 3,
   "id": "8488e779",
   "metadata": {},
   "outputs": [
    {
     "data": {
      "text/plain": [
       "(366, 10)"
      ]
     },
     "execution_count": 3,
     "metadata": {},
     "output_type": "execute_result"
    }
   ],
   "source": [
    "# test shape\n",
    "test_df.shape"
   ]
  },
  {
   "cell_type": "code",
   "execution_count": 4,
   "id": "60b82e75",
   "metadata": {},
   "outputs": [
    {
     "data": {
      "text/html": [
       "<div>\n",
       "<style scoped>\n",
       "    .dataframe tbody tr th:only-of-type {\n",
       "        vertical-align: middle;\n",
       "    }\n",
       "\n",
       "    .dataframe tbody tr th {\n",
       "        vertical-align: top;\n",
       "    }\n",
       "\n",
       "    .dataframe thead th {\n",
       "        text-align: right;\n",
       "    }\n",
       "</style>\n",
       "<table border=\"1\" class=\"dataframe\">\n",
       "  <thead>\n",
       "    <tr style=\"text-align: right;\">\n",
       "      <th></th>\n",
       "      <th>temp</th>\n",
       "      <th>temp_C</th>\n",
       "      <th>hum</th>\n",
       "      <th>windspeed</th>\n",
       "      <th>atemp</th>\n",
       "      <th>atemp_C</th>\n",
       "      <th>yr</th>\n",
       "      <th>workingday</th>\n",
       "      <th>holiday</th>\n",
       "      <th>casual</th>\n",
       "    </tr>\n",
       "  </thead>\n",
       "  <tbody>\n",
       "    <tr>\n",
       "      <th>0</th>\n",
       "      <td>0.368</td>\n",
       "      <td>9.296</td>\n",
       "      <td>0.569</td>\n",
       "      <td>0.148</td>\n",
       "      <td>0.379</td>\n",
       "      <td>9.014</td>\n",
       "      <td>1</td>\n",
       "      <td>1</td>\n",
       "      <td>0</td>\n",
       "      <td>1603</td>\n",
       "    </tr>\n",
       "    <tr>\n",
       "      <th>1</th>\n",
       "      <td>0.700</td>\n",
       "      <td>24.900</td>\n",
       "      <td>0.761</td>\n",
       "      <td>0.084</td>\n",
       "      <td>0.660</td>\n",
       "      <td>27.560</td>\n",
       "      <td>0</td>\n",
       "      <td>1</td>\n",
       "      <td>0</td>\n",
       "      <td>768</td>\n",
       "    </tr>\n",
       "    <tr>\n",
       "      <th>2</th>\n",
       "      <td>0.282</td>\n",
       "      <td>5.254</td>\n",
       "      <td>0.538</td>\n",
       "      <td>0.187</td>\n",
       "      <td>0.282</td>\n",
       "      <td>2.612</td>\n",
       "      <td>0</td>\n",
       "      <td>0</td>\n",
       "      <td>0</td>\n",
       "      <td>424</td>\n",
       "    </tr>\n",
       "    <tr>\n",
       "      <th>3</th>\n",
       "      <td>0.335</td>\n",
       "      <td>7.745</td>\n",
       "      <td>0.450</td>\n",
       "      <td>0.308</td>\n",
       "      <td>0.320</td>\n",
       "      <td>5.120</td>\n",
       "      <td>0</td>\n",
       "      <td>1</td>\n",
       "      <td>0</td>\n",
       "      <td>231</td>\n",
       "    </tr>\n",
       "    <tr>\n",
       "      <th>4</th>\n",
       "      <td>0.398</td>\n",
       "      <td>10.706</td>\n",
       "      <td>0.466</td>\n",
       "      <td>0.290</td>\n",
       "      <td>0.388</td>\n",
       "      <td>9.608</td>\n",
       "      <td>1</td>\n",
       "      <td>1</td>\n",
       "      <td>0</td>\n",
       "      <td>663</td>\n",
       "    </tr>\n",
       "  </tbody>\n",
       "</table>\n",
       "</div>"
      ],
      "text/plain": [
       "    temp  temp_C    hum  windspeed  atemp  atemp_C  yr  workingday  holiday  \\\n",
       "0  0.368   9.296  0.569      0.148  0.379    9.014   1           1        0   \n",
       "1  0.700  24.900  0.761      0.084  0.660   27.560   0           1        0   \n",
       "2  0.282   5.254  0.538      0.187  0.282    2.612   0           0        0   \n",
       "3  0.335   7.745  0.450      0.308  0.320    5.120   0           1        0   \n",
       "4  0.398  10.706  0.466      0.290  0.388    9.608   1           1        0   \n",
       "\n",
       "   casual  \n",
       "0    1603  \n",
       "1     768  \n",
       "2     424  \n",
       "3     231  \n",
       "4     663  "
      ]
     },
     "execution_count": 4,
     "metadata": {},
     "output_type": "execute_result"
    }
   ],
   "source": [
    "train_df.head()"
   ]
  },
  {
   "cell_type": "code",
   "execution_count": 5,
   "id": "cc17151d",
   "metadata": {},
   "outputs": [],
   "source": [
    "import numpy as np"
   ]
  },
  {
   "cell_type": "code",
   "execution_count": 7,
   "id": "63ece115",
   "metadata": {},
   "outputs": [],
   "source": [
    "feature = ['temp','hum','windspeed','yr','workingday','holiday']"
   ]
  },
  {
   "cell_type": "code",
   "execution_count": 8,
   "id": "1bff66aa",
   "metadata": {},
   "outputs": [],
   "source": [
    "X = train_df[feature].values\n",
    "X1 = np.c_[np.ones(X.shape[0]),X]\n",
    "y = train_df.casual.values"
   ]
  },
  {
   "cell_type": "code",
   "execution_count": 9,
   "id": "d1821070",
   "metadata": {},
   "outputs": [
    {
     "name": "stdout",
     "output_type": "stream",
     "text": [
      "Columns 7 rank 7 collinear 0\n",
      "Condition number: 22.000828462946895\n"
     ]
    }
   ],
   "source": [
    "# Compute rank and condition number\n",
    "M = X1.shape[1] # Number of columns\n",
    "rank = np.linalg.matrix_rank(X1)\n",
    "cond = np.linalg.cond(X1)\n",
    "print('Columns {} rank {} collinear {}'.format(M, rank, M-rank))\n",
    "print('Condition number:', cond)"
   ]
  },
  {
   "cell_type": "code",
   "execution_count": 10,
   "id": "3d6381aa",
   "metadata": {},
   "outputs": [],
   "source": [
    "# Extract numpy arrays X/y for both sets\n",
    "X_tr = train_df[feature].values\n",
    "y_tr = train_df.casual.values\n",
    "\n",
    "X_te = test_df[feature].values\n",
    "y_te = test_df.casual.values"
   ]
  },
  {
   "cell_type": "code",
   "execution_count": 11,
   "id": "ac893afb",
   "metadata": {},
   "outputs": [],
   "source": [
    "# we will test models with MAE\n",
    "def MAE(y, y_pred):\n",
    "    return np.mean(np.abs(y - y_pred))"
   ]
  },
  {
   "cell_type": "code",
   "execution_count": 12,
   "id": "5e97b3c9",
   "metadata": {},
   "outputs": [
    {
     "name": "stdout",
     "output_type": "stream",
     "text": [
      "Coefficients: [ 2029.93927132  -518.58054201 -1235.9864496    254.1392439\n",
      "  -842.07556261  -216.82954913]\n",
      "Intercept: 870.3461082714265\n"
     ]
    }
   ],
   "source": [
    "# (A) Linear regression\n",
    "from sklearn.linear_model import LinearRegression\n",
    "\n",
    "# Create a linear regression object\n",
    "lr = LinearRegression()\n",
    "\n",
    "# Fit the model\n",
    "lr.fit(X_tr,y_tr)\n",
    "\n",
    "# Print the coefficients\n",
    "print('Coefficients:', lr.coef_)\n",
    "\n",
    "print('Intercept:', lr.intercept_)"
   ]
  },
  {
   "cell_type": "code",
   "execution_count": 13,
   "id": "652a4547",
   "metadata": {},
   "outputs": [],
   "source": [
    "# predict on test set\n",
    "y_pred_lr = lr.predict(X_te)\n",
    "mae_lr = MAE(y_te, y_pred_lr)"
   ]
  },
  {
   "cell_type": "code",
   "execution_count": 14,
   "id": "9824b3d1",
   "metadata": {},
   "outputs": [
    {
     "name": "stdout",
     "output_type": "stream",
     "text": [
      "[1904.54481063 -590.68806002 -965.607323    189.81251498 -802.27031864\n",
      " -351.32176627] 913.5970147028636\n"
     ]
    }
   ],
   "source": [
    "# (B) Huber loss\n",
    "from sklearn.linear_model import HuberRegressor\n",
    "\n",
    "huber = HuberRegressor(epsilon=1.35)\n",
    "\n",
    "huber.fit(X_tr,y_tr)\n",
    "\n",
    "print(huber.coef_, huber.intercept_)\n",
    "\n",
    "y_pred_huber = huber.predict(X_te)\n",
    "mae_huber = MAE(y_te, y_pred_huber)"
   ]
  },
  {
   "cell_type": "code",
   "execution_count": 15,
   "id": "758c72fe",
   "metadata": {},
   "outputs": [
    {
     "data": {
      "image/png": "[encoded data removed]",
      "text/plain": [
       "<Figure size 432x288 with 1 Axes>"
      ]
     },
     "metadata": {
      "needs_background": "light"
     },
     "output_type": "display_data"
    }
   ],
   "source": [
    "%matplotlib inline\n",
    "import matplotlib.pyplot as plt\n",
    "\n",
    "# Plot models\n",
    "temp_te = X_te[:, 0] # 0: temperatures column\n",
    "plt.scatter(temp_te, y_te, s=10, label='test points')\n",
    "plt.scatter(temp_te, y_pred_huber, s=10, label='predictions (huber)')\n",
    "plt.legend()\n",
    "plt.show()\n",
    "\n",
    "# shows with Huber that there seem to be two sources (we know that there is workingday vs non workingday source)"
   ]
  },
  {
   "cell_type": "code",
   "execution_count": 16,
   "id": "873d05dd",
   "metadata": {},
   "outputs": [],
   "source": [
    "# (C) Baseline with linear regression deg=1\n",
    "x_tr = train_df.temp.values\n",
    "x_te = test_df.temp.values\n",
    "\n",
    "coef = np.polyfit(x_tr,y_tr, deg=1)\n",
    "y_pred_poly = np.polyval(coef, x_te)\n",
    "mae_lr_poly = MAE(y_te, y_pred_poly)"
   ]
  },
  {
   "cell_type": "code",
   "execution_count": 17,
   "id": "f213fc60",
   "metadata": {},
   "outputs": [],
   "source": [
    "# baseline with mean as well\n",
    "mae_baseline = MAE(y_te, np.median(y_tr))"
   ]
  },
  {
   "cell_type": "markdown",
   "id": "c6fc3d59",
   "metadata": {},
   "source": [
    "### Create model with two sources"
   ]
  },
  {
   "cell_type": "code",
   "execution_count": 18,
   "id": "36bd9ce0",
   "metadata": {},
   "outputs": [
    {
     "data": {
      "image/png": "[encoded data removed]",
      "text/plain": [
       "<Figure size 432x288 with 2 Axes>"
      ]
     },
     "metadata": {
      "needs_background": "light"
     },
     "output_type": "display_data"
    }
   ],
   "source": [
    "# We can identify two sources\n",
    "temp_tr = X_tr[:, 0] # 0: temp column\n",
    "wd_tr = X_tr[:, 4] # 4: workingday column\n",
    "\n",
    "plt.scatter(temp_tr, y_tr, c=wd_tr, s=10)\n",
    "plt.colorbar(label='working day')\n",
    "plt.xlabel('temperatures')\n",
    "plt.ylabel('casual users')\n",
    "plt.show()"
   ]
  },
  {
   "cell_type": "code",
   "execution_count": 19,
   "id": "e5ddbafe",
   "metadata": {},
   "outputs": [],
   "source": [
    "# Separate data points\n",
    "# * wd: working day\n",
    "# * nwd: non-working day\n",
    "columns = [0, 1, 2, 3, 5] # Also, remove column 4: workingday\n",
    "\n",
    "# Train set\n",
    "wd_idx_tr = (X_tr[:, 4] == 1) # Entries with workingday == 1\n",
    "\n",
    "X_tr_wd = X_tr[wd_idx_tr][:, columns]\n",
    "y_tr_wd = y_tr[wd_idx_tr]\n",
    "\n",
    "X_tr_nwd = X_tr[~wd_idx_tr][:, columns]\n",
    "y_tr_nwd = y_tr[~wd_idx_tr]\n",
    "\n",
    "# Test set\n",
    "wd_idx_te = (X_te[:, 4] == 1) # Entries with workingday == 1\n",
    "\n",
    "X_te_wd = X_te[wd_idx_te][:, columns]\n",
    "y_te_wd = y_te[wd_idx_te]\n",
    "\n",
    "X_te_nwd = X_te[~wd_idx_te][:, columns]\n",
    "y_te_nwd = y_te[~wd_idx_te]"
   ]
  },
  {
   "cell_type": "code",
   "execution_count": 20,
   "id": "04a5e9bf",
   "metadata": {},
   "outputs": [
    {
     "data": {
      "text/plain": [
       "LinearRegression()"
      ]
     },
     "execution_count": 20,
     "metadata": {},
     "output_type": "execute_result"
    }
   ],
   "source": [
    "# Linear regression\n",
    "lr_wd = LinearRegression() # Model for working days\n",
    "lr_nwd = LinearRegression() # Model for non-working days\n",
    "\n",
    "lr_wd.fit(X_tr_wd, y_tr_wd) # Fit models to train data\n",
    "lr_nwd.fit(X_tr_nwd, y_tr_nwd)"
   ]
  },
  {
   "cell_type": "code",
   "execution_count": 21,
   "id": "ba5abde9",
   "metadata": {},
   "outputs": [],
   "source": [
    "y_pred_lr_wd = np.maximum(lr_wd.predict(X_te_wd), 50) # set minimum of 50 users to not be negative\n",
    "y_pred_lr_nwd = np.maximum(lr_nwd.predict(X_te_nwd), 50)"
   ]
  },
  {
   "cell_type": "code",
   "execution_count": 22,
   "id": "cceb824a",
   "metadata": {},
   "outputs": [],
   "source": [
    "# Ressamble data\n",
    "\n",
    "# target value\n",
    "y_te_wdnwd = np.concatenate((y_te_wd,y_te_nwd))\n",
    "\n",
    "# pred value\n",
    "y_pred_lr_wdnwd = np.concatenate((y_pred_lr_wd,y_pred_lr_nwd))\n",
    "\n",
    "mae_two_models = MAE(y_te_wdnwd, y_pred_lr_wdnwd)"
   ]
  },
  {
   "cell_type": "code",
   "execution_count": 23,
   "id": "fbb58006",
   "metadata": {},
   "outputs": [
    {
     "data": {
      "image/png": "[encoded data removed]",
      "text/plain": [
       "<Figure size 432x288 with 1 Axes>"
      ]
     },
     "metadata": {
      "needs_background": "light"
     },
     "output_type": "display_data"
    }
   ],
   "source": [
    "# Plot temperatures for working days and non-working days\n",
    "temp_te_wdnwd = np.concatenate((X_te_wd[:, 0], X_te_nwd[:, 0]))\n",
    "plt.scatter(temp_te_wdnwd, y_te_wdnwd, s=10, label='test points')\n",
    "\n",
    "# Predictions for working days\n",
    "plt.scatter(X_te_wd[:, 0], y_pred_lr_wd, s=10, label='workind day model')\n",
    "\n",
    "# Predictions for non-working days\n",
    "plt.scatter(X_te_nwd[:, 0], y_pred_lr_nwd, s=10, label='non-working day model')\n",
    "\n",
    "plt.legend()\n",
    "plt.show()"
   ]
  },
  {
   "cell_type": "code",
   "execution_count": 24,
   "id": "566dd6b5",
   "metadata": {},
   "outputs": [
    {
     "data": {
      "image/png": "[encoded data removed]",
      "text/plain": [
       "<Figure size 432x288 with 1 Axes>"
      ]
     },
     "metadata": {
      "needs_background": "light"
     },
     "output_type": "display_data"
    }
   ],
   "source": [
    "# Final comparison\n",
    "mae_values = [mae_lr_poly, mae_baseline, mae_lr, mae_huber, mae_two_models]\n",
    "titles = ['poly deg=1','median', 'lr', 'huber', 'lr two models']\n",
    "\n",
    "xcor = np.arange(len(mae_values))\n",
    "plt.bar(xcor, mae_values)\n",
    "plt.xticks(xcor, titles)\n",
    "\n",
    "plt.ylabel('MAE')\n",
    "plt.show()"
   ]
  },
  {
   "cell_type": "code",
   "execution_count": 25,
   "id": "6e91f3c5",
   "metadata": {},
   "outputs": [
    {
     "name": "stdout",
     "output_type": "stream",
     "text": [
      "R^2 linear regression: 0.6680357017933192\n",
      "R^2 huber loss: 0.6660473610357539\n",
      "R^2 when separating sources: 0.7250821656146723\n"
     ]
    }
   ],
   "source": [
    "# R2 coefficients\n",
    "r2_lr = lr.score(X_te, y_te)\n",
    "r2_huber = huber.score(X_te, y_te)\n",
    "\n",
    "print('R^2 linear regression:', r2_lr)\n",
    "print('R^2 huber loss:', r2_huber)\n",
    "\n",
    "# R2 coefficient when separating sources\n",
    "def RSS(y, y_pred):\n",
    "    return np.sum(np.square(y - y_pred))\n",
    "\n",
    "rss_lr_wdnwd = RSS(y_te_wdnwd, y_pred_lr_wdnwd)\n",
    "rss_baseline = RSS(y_te, y_te.mean())\n",
    "r2_lr_wdnwd = 1 - rss_lr_wdnwd/rss_baseline\n",
    "\n",
    "print('R^2 when separating sources:', r2_lr_wdnwd)"
   ]
  },
  {
   "cell_type": "markdown",
   "id": "a0e85621",
   "metadata": {},
   "source": [
    "#### Comments\n",
    "* LinearRegression with two models is over-performing all other models which is also confirm in the R2 score"
   ]
  },
  {
   "cell_type": "markdown",
   "id": "fb6576ae",
   "metadata": {},
   "source": [
    "## Bike sharing polynomial features (Part B)\n",
    "\n",
    "The goal of this exercise is to experiment with feature engineering, data splitting, and one-hot encoding.\n",
    "\n",
    "### Data description\n",
    "\n",
    "You are going to work with the bike sharing data set from the previous exercise with three additional features.\n",
    "\n",
    "* $weekday$ - day of the week\n",
    "* $season$ - season of the year\n",
    "* $weathersit$ - type of weather\n",
    "\n",
    "These are all categorical features, which you will have to be encoded using **one-hot encoding** before applying linear regressions. Read the \"attribute information\" section from the data set web page to learn about these three features and their possible values."
   ]
  },
  {
   "cell_type": "code",
   "execution_count": 26,
   "id": "ff5e75ae",
   "metadata": {},
   "outputs": [
    {
     "name": "stdout",
     "output_type": "stream",
     "text": [
      "Shape: (731, 10)\n"
     ]
    },
    {
     "data": {
      "text/html": [
       "<div>\n",
       "<style scoped>\n",
       "    .dataframe tbody tr th:only-of-type {\n",
       "        vertical-align: middle;\n",
       "    }\n",
       "\n",
       "    .dataframe tbody tr th {\n",
       "        vertical-align: top;\n",
       "    }\n",
       "\n",
       "    .dataframe thead th {\n",
       "        text-align: right;\n",
       "    }\n",
       "</style>\n",
       "<table border=\"1\" class=\"dataframe\">\n",
       "  <thead>\n",
       "    <tr style=\"text-align: right;\">\n",
       "      <th></th>\n",
       "      <th>temp</th>\n",
       "      <th>hum</th>\n",
       "      <th>windspeed</th>\n",
       "      <th>yr</th>\n",
       "      <th>workingday</th>\n",
       "      <th>holiday</th>\n",
       "      <th>weekday</th>\n",
       "      <th>season</th>\n",
       "      <th>weathersit</th>\n",
       "      <th>casual</th>\n",
       "    </tr>\n",
       "  </thead>\n",
       "  <tbody>\n",
       "    <tr>\n",
       "      <th>0</th>\n",
       "      <td>0.344</td>\n",
       "      <td>0.806</td>\n",
       "      <td>0.160</td>\n",
       "      <td>2011</td>\n",
       "      <td>no</td>\n",
       "      <td>no</td>\n",
       "      <td>6</td>\n",
       "      <td>spring</td>\n",
       "      <td>cloudy</td>\n",
       "      <td>331</td>\n",
       "    </tr>\n",
       "    <tr>\n",
       "      <th>1</th>\n",
       "      <td>0.363</td>\n",
       "      <td>0.696</td>\n",
       "      <td>0.249</td>\n",
       "      <td>2011</td>\n",
       "      <td>no</td>\n",
       "      <td>no</td>\n",
       "      <td>0</td>\n",
       "      <td>spring</td>\n",
       "      <td>cloudy</td>\n",
       "      <td>131</td>\n",
       "    </tr>\n",
       "    <tr>\n",
       "      <th>2</th>\n",
       "      <td>0.196</td>\n",
       "      <td>0.437</td>\n",
       "      <td>0.248</td>\n",
       "      <td>2011</td>\n",
       "      <td>yes</td>\n",
       "      <td>no</td>\n",
       "      <td>1</td>\n",
       "      <td>spring</td>\n",
       "      <td>clear</td>\n",
       "      <td>120</td>\n",
       "    </tr>\n",
       "    <tr>\n",
       "      <th>3</th>\n",
       "      <td>0.200</td>\n",
       "      <td>0.590</td>\n",
       "      <td>0.160</td>\n",
       "      <td>2011</td>\n",
       "      <td>yes</td>\n",
       "      <td>no</td>\n",
       "      <td>2</td>\n",
       "      <td>spring</td>\n",
       "      <td>clear</td>\n",
       "      <td>108</td>\n",
       "    </tr>\n",
       "    <tr>\n",
       "      <th>4</th>\n",
       "      <td>0.227</td>\n",
       "      <td>0.437</td>\n",
       "      <td>0.187</td>\n",
       "      <td>2011</td>\n",
       "      <td>yes</td>\n",
       "      <td>no</td>\n",
       "      <td>3</td>\n",
       "      <td>spring</td>\n",
       "      <td>clear</td>\n",
       "      <td>82</td>\n",
       "    </tr>\n",
       "  </tbody>\n",
       "</table>\n",
       "</div>"
      ],
      "text/plain": [
       "    temp    hum  windspeed    yr workingday holiday  weekday  season  \\\n",
       "0  0.344  0.806      0.160  2011         no      no        6  spring   \n",
       "1  0.363  0.696      0.249  2011         no      no        0  spring   \n",
       "2  0.196  0.437      0.248  2011        yes      no        1  spring   \n",
       "3  0.200  0.590      0.160  2011        yes      no        2  spring   \n",
       "4  0.227  0.437      0.187  2011        yes      no        3  spring   \n",
       "\n",
       "  weathersit  casual  \n",
       "0     cloudy     331  \n",
       "1     cloudy     131  \n",
       "2      clear     120  \n",
       "3      clear     108  \n",
       "4      clear      82  "
      ]
     },
     "execution_count": 26,
     "metadata": {},
     "output_type": "execute_result"
    }
   ],
   "source": [
    "import pandas as pd\n",
    "import numpy as np\n",
    "\n",
    "# load data\n",
    "data_df = pd.read_csv('bike-sharingbis.csv')\n",
    "print('Shape:',data_df.shape)\n",
    "\n",
    "# First 5 rows\n",
    "data_df.head()"
   ]
  },
  {
   "cell_type": "code",
   "execution_count": 27,
   "id": "04a901eb",
   "metadata": {},
   "outputs": [
    {
     "data": {
      "text/plain": [
       "array(['cloudy', 'clear', 'rainy'], dtype=object)"
      ]
     },
     "execution_count": 27,
     "metadata": {},
     "output_type": "execute_result"
    }
   ],
   "source": [
    "# Check values in 'weathersit' column\n",
    "data_df['weathersit'].unique()"
   ]
  },
  {
   "cell_type": "code",
   "execution_count": 28,
   "id": "07b5987c",
   "metadata": {},
   "outputs": [
    {
     "data": {
      "text/html": [
       "<div>\n",
       "<style scoped>\n",
       "    .dataframe tbody tr th:only-of-type {\n",
       "        vertical-align: middle;\n",
       "    }\n",
       "\n",
       "    .dataframe tbody tr th {\n",
       "        vertical-align: top;\n",
       "    }\n",
       "\n",
       "    .dataframe thead th {\n",
       "        text-align: right;\n",
       "    }\n",
       "</style>\n",
       "<table border=\"1\" class=\"dataframe\">\n",
       "  <thead>\n",
       "    <tr style=\"text-align: right;\">\n",
       "      <th></th>\n",
       "      <th>temp</th>\n",
       "      <th>hum</th>\n",
       "      <th>windspeed</th>\n",
       "      <th>casual</th>\n",
       "      <th>yr_2012</th>\n",
       "      <th>workingday_yes</th>\n",
       "      <th>holiday_yes</th>\n",
       "      <th>weekday_1</th>\n",
       "      <th>weekday_2</th>\n",
       "      <th>weekday_3</th>\n",
       "      <th>weekday_4</th>\n",
       "      <th>weekday_5</th>\n",
       "      <th>weekday_6</th>\n",
       "      <th>season_spring</th>\n",
       "      <th>season_summer</th>\n",
       "      <th>season_winter</th>\n",
       "      <th>weathersit_cloudy</th>\n",
       "      <th>weathersit_rainy</th>\n",
       "    </tr>\n",
       "  </thead>\n",
       "  <tbody>\n",
       "    <tr>\n",
       "      <th>0</th>\n",
       "      <td>0.344</td>\n",
       "      <td>0.806</td>\n",
       "      <td>0.160</td>\n",
       "      <td>331</td>\n",
       "      <td>0</td>\n",
       "      <td>0</td>\n",
       "      <td>0</td>\n",
       "      <td>0</td>\n",
       "      <td>0</td>\n",
       "      <td>0</td>\n",
       "      <td>0</td>\n",
       "      <td>0</td>\n",
       "      <td>1</td>\n",
       "      <td>1</td>\n",
       "      <td>0</td>\n",
       "      <td>0</td>\n",
       "      <td>1</td>\n",
       "      <td>0</td>\n",
       "    </tr>\n",
       "    <tr>\n",
       "      <th>1</th>\n",
       "      <td>0.363</td>\n",
       "      <td>0.696</td>\n",
       "      <td>0.249</td>\n",
       "      <td>131</td>\n",
       "      <td>0</td>\n",
       "      <td>0</td>\n",
       "      <td>0</td>\n",
       "      <td>0</td>\n",
       "      <td>0</td>\n",
       "      <td>0</td>\n",
       "      <td>0</td>\n",
       "      <td>0</td>\n",
       "      <td>0</td>\n",
       "      <td>1</td>\n",
       "      <td>0</td>\n",
       "      <td>0</td>\n",
       "      <td>1</td>\n",
       "      <td>0</td>\n",
       "    </tr>\n",
       "    <tr>\n",
       "      <th>2</th>\n",
       "      <td>0.196</td>\n",
       "      <td>0.437</td>\n",
       "      <td>0.248</td>\n",
       "      <td>120</td>\n",
       "      <td>0</td>\n",
       "      <td>1</td>\n",
       "      <td>0</td>\n",
       "      <td>1</td>\n",
       "      <td>0</td>\n",
       "      <td>0</td>\n",
       "      <td>0</td>\n",
       "      <td>0</td>\n",
       "      <td>0</td>\n",
       "      <td>1</td>\n",
       "      <td>0</td>\n",
       "      <td>0</td>\n",
       "      <td>0</td>\n",
       "      <td>0</td>\n",
       "    </tr>\n",
       "    <tr>\n",
       "      <th>3</th>\n",
       "      <td>0.200</td>\n",
       "      <td>0.590</td>\n",
       "      <td>0.160</td>\n",
       "      <td>108</td>\n",
       "      <td>0</td>\n",
       "      <td>1</td>\n",
       "      <td>0</td>\n",
       "      <td>0</td>\n",
       "      <td>1</td>\n",
       "      <td>0</td>\n",
       "      <td>0</td>\n",
       "      <td>0</td>\n",
       "      <td>0</td>\n",
       "      <td>1</td>\n",
       "      <td>0</td>\n",
       "      <td>0</td>\n",
       "      <td>0</td>\n",
       "      <td>0</td>\n",
       "    </tr>\n",
       "    <tr>\n",
       "      <th>4</th>\n",
       "      <td>0.227</td>\n",
       "      <td>0.437</td>\n",
       "      <td>0.187</td>\n",
       "      <td>82</td>\n",
       "      <td>0</td>\n",
       "      <td>1</td>\n",
       "      <td>0</td>\n",
       "      <td>0</td>\n",
       "      <td>0</td>\n",
       "      <td>1</td>\n",
       "      <td>0</td>\n",
       "      <td>0</td>\n",
       "      <td>0</td>\n",
       "      <td>1</td>\n",
       "      <td>0</td>\n",
       "      <td>0</td>\n",
       "      <td>0</td>\n",
       "      <td>0</td>\n",
       "    </tr>\n",
       "  </tbody>\n",
       "</table>\n",
       "</div>"
      ],
      "text/plain": [
       "    temp    hum  windspeed  casual  yr_2012  workingday_yes  holiday_yes  \\\n",
       "0  0.344  0.806      0.160     331        0               0            0   \n",
       "1  0.363  0.696      0.249     131        0               0            0   \n",
       "2  0.196  0.437      0.248     120        0               1            0   \n",
       "3  0.200  0.590      0.160     108        0               1            0   \n",
       "4  0.227  0.437      0.187      82        0               1            0   \n",
       "\n",
       "   weekday_1  weekday_2  weekday_3  weekday_4  weekday_5  weekday_6  \\\n",
       "0          0          0          0          0          0          1   \n",
       "1          0          0          0          0          0          0   \n",
       "2          1          0          0          0          0          0   \n",
       "3          0          1          0          0          0          0   \n",
       "4          0          0          1          0          0          0   \n",
       "\n",
       "   season_spring  season_summer  season_winter  weathersit_cloudy  \\\n",
       "0              1              0              0                  1   \n",
       "1              1              0              0                  1   \n",
       "2              1              0              0                  0   \n",
       "3              1              0              0                  0   \n",
       "4              1              0              0                  0   \n",
       "\n",
       "   weathersit_rainy  \n",
       "0                 0  \n",
       "1                 0  \n",
       "2                 0  \n",
       "3                 0  \n",
       "4                 0  "
      ]
     },
     "execution_count": 28,
     "metadata": {},
     "output_type": "execute_result"
    }
   ],
   "source": [
    "# Get dummy variable with One-hot encoding\n",
    "pd.get_dummies(data_df, columns=['yr','workingday','holiday','weekday','season','weathersit'],drop_first=True).head()"
   ]
  },
  {
   "cell_type": "code",
   "execution_count": 29,
   "id": "ebf68553",
   "metadata": {},
   "outputs": [],
   "source": [
    "df = pd.get_dummies(data_df, columns=['yr','workingday','holiday','weekday','season','weathersit'],drop_first=True)"
   ]
  },
  {
   "cell_type": "code",
   "execution_count": 30,
   "id": "b150af0a",
   "metadata": {},
   "outputs": [],
   "source": [
    "n = len(df['temp'])\n",
    "indexes = np.arange(n)"
   ]
  },
  {
   "cell_type": "code",
   "execution_count": 31,
   "id": "24ce5cd2",
   "metadata": {},
   "outputs": [],
   "source": [
    "np.random.seed(0)\n",
    "np.random.shuffle(indexes)"
   ]
  },
  {
   "cell_type": "code",
   "execution_count": 32,
   "id": "802157f5",
   "metadata": {},
   "outputs": [
    {
     "name": "stdout",
     "output_type": "stream",
     "text": [
      "Share train: (511, 18)\n",
      "Share test: (220, 18)\n"
     ]
    }
   ],
   "source": [
    "split_idx = int(n*0.7)\n",
    "train = df[:split_idx]\n",
    "test = df[split_idx:]\n",
    "print('Share train:',train.shape)\n",
    "print('Share test:',test.shape)"
   ]
  },
  {
   "cell_type": "code",
   "execution_count": 33,
   "id": "19c30a89",
   "metadata": {},
   "outputs": [],
   "source": [
    "X_tr, X_te = train.drop('casual', axis=1).values, test.drop('casual', axis=1).values\n",
    "y_tr, y_te = train.casual.values, test.casual.values"
   ]
  },
  {
   "cell_type": "code",
   "execution_count": 34,
   "id": "2fb84181",
   "metadata": {},
   "outputs": [],
   "source": [
    "# Can also be done directly with 'train_test_split'\n",
    "#from sklearn.model_selection import train_test_split\n",
    "\n",
    "# Split data\n",
    "#x_tr, x_te, y_tr, y_te = train_test_split(x, y, train_size=0.7, test_size=0.3, random_state=0)"
   ]
  },
  {
   "cell_type": "code",
   "execution_count": 35,
   "id": "90c80e19",
   "metadata": {},
   "outputs": [
    {
     "data": {
      "image/png": "[encoded data removed]",
      "text/plain": [
       "<Figure size 432x288 with 1 Axes>"
      ]
     },
     "metadata": {
      "needs_background": "light"
     },
     "output_type": "display_data"
    }
   ],
   "source": [
    "# Vizualize distribution of train and test values (can only be done with one of the input variables)\n",
    "%matplotlib inline\n",
    "import matplotlib.pyplot as plt\n",
    "\n",
    "plt.scatter(X_tr[:,0], y_tr, c='blue', label='train')\n",
    "plt.scatter(X_te[:,0], y_te, c='red', label='test')\n",
    "plt.legend()\n",
    "plt.show()"
   ]
  },
  {
   "cell_type": "code",
   "execution_count": 36,
   "id": "2e2ed5c2",
   "metadata": {},
   "outputs": [
    {
     "data": {
      "text/plain": [
       "0.7038990476595522"
      ]
     },
     "execution_count": 36,
     "metadata": {},
     "output_type": "execute_result"
    }
   ],
   "source": [
    "# (A) LinearRegression model\n",
    "from sklearn.linear_model import LinearRegression\n",
    "\n",
    "linreg = LinearRegression()\n",
    "linreg.fit(X_tr, y_tr)\n",
    "linreg.score(X_tr, y_tr)"
   ]
  },
  {
   "cell_type": "code",
   "execution_count": 37,
   "id": "ec96e0bf",
   "metadata": {},
   "outputs": [
    {
     "name": "stdout",
     "output_type": "stream",
     "text": [
      "MSE train: 115828.11662222238\n",
      "MAE train: 157.43742243196868\n",
      "MSE test: 174382.16120481506\n",
      "MAE test: 191.71925651648814\n",
      "MAE train: 371.0\n",
      "MAE test: 420.0\n"
     ]
    }
   ],
   "source": [
    "from sklearn.metrics import mean_squared_error as mse\n",
    "\n",
    "def MAE(y, y_pred):\n",
    "    return np.median(np.abs(y - np.maximum((y_pred),50))) # set lower limit at 50\n",
    "\n",
    "y_pred_tr = linreg.predict(X_tr)\n",
    "print('MSE train:',mse(y_tr, y_pred_tr))\n",
    "print('MAE train:',MAE(y_tr, y_pred_tr))\n",
    "y_pred_te = linreg.predict(X_te)\n",
    "print('MSE test:',mse(y_te, y_pred_te))\n",
    "print('MAE test:',MAE(y_te, y_pred_te))\n",
    "\n",
    "# Add baseline as well\n",
    "print('MAE train:',MAE(y_tr,np.median(y_tr)))\n",
    "print('MAE test:',MAE(y_te,np.median(y_tr)))"
   ]
  },
  {
   "cell_type": "code",
   "execution_count": 38,
   "id": "efdac809",
   "metadata": {},
   "outputs": [
    {
     "name": "stdout",
     "output_type": "stream",
     "text": [
      "MSE test: 174382.2140738319\n"
     ]
    }
   ],
   "source": [
    "# (B) Ridge model to cover for ill-conditioning\n",
    "from sklearn.linear_model import Ridge\n",
    "\n",
    "ridge = Ridge(alpha=1e-4)\n",
    "ridge.fit(X_tr, y_tr)\n",
    "y_pred = ridge.predict(X_te)\n",
    "\n",
    "print('MSE test:',mse(y_te,y_pred))"
   ]
  },
  {
   "cell_type": "markdown",
   "id": "ab1ce575",
   "metadata": {},
   "source": [
    "### Add polynomial features"
   ]
  },
  {
   "cell_type": "code",
   "execution_count": 39,
   "id": "36871cf3",
   "metadata": {},
   "outputs": [],
   "source": [
    "# Function to add features\n",
    "def create_features(df):\n",
    "    temp = df.temp.values\n",
    "    others = df.drop(['temp', 'casual'], axis=1).values\n",
    "    return np.c_[temp, temp**2, temp**3, others]"
   ]
  },
  {
   "cell_type": "code",
   "execution_count": 40,
   "id": "74cd07f4",
   "metadata": {},
   "outputs": [
    {
     "name": "stdout",
     "output_type": "stream",
     "text": [
      "MAE lr with new features: 164.258\n"
     ]
    }
   ],
   "source": [
    "from sklearn.linear_model import LinearRegression, Ridge\n",
    "\n",
    "# Function to fit the model\n",
    "def fit_model(X_train, y_train, X_test):\n",
    "    # Create the model\n",
    "    # Note: Using ridge with a small alpha to avoid ill-conditioning issues\n",
    "    model = Ridge(alpha=1e-4) # or LinearRegression()\n",
    "    \n",
    "    # Fit it to train data\n",
    "    model.fit(X_train, y_train)\n",
    "    \n",
    "    # Compute predictions for test set\n",
    "    y_pred = np.maximum(\n",
    "        model.predict(X_test),\n",
    "        50 # set a lower limit\n",
    "    )\n",
    "    \n",
    "    return y_pred\n",
    "\n",
    "# Create new input matrices\n",
    "X_tr2 = create_features(train)\n",
    "X_te2 = create_features(test)\n",
    "\n",
    "# Fit a linear regression\n",
    "y_pred_lr = fit_model(X_tr2, y_tr, X_te2)\n",
    "mae_lr2 = MAE(y_te, y_pred_lr)\n",
    "print('MAE lr with new features: {:.3f}'.format(mae_lr2))"
   ]
  },
  {
   "cell_type": "code",
   "execution_count": 41,
   "id": "c4306944",
   "metadata": {},
   "outputs": [
    {
     "data": {
      "image/png": "[encoded data removed]",
      "text/plain": [
       "<Figure size 432x288 with 1 Axes>"
      ]
     },
     "metadata": {
      "needs_background": "light"
     },
     "output_type": "display_data"
    }
   ],
   "source": [
    "# Plot predictions\n",
    "%matplotlib inline\n",
    "import matplotlib.pyplot as plt\n",
    "\n",
    "plt.scatter(test.temp, test.casual, s=10, label='test points')\n",
    "plt.scatter(test.temp, y_pred_lr, s=10, label='lr with new features')\n",
    "plt.legend()\n",
    "plt.show()"
   ]
  },
  {
   "cell_type": "markdown",
   "id": "3dde0927",
   "metadata": {},
   "source": [
    "### Seperate sources\n",
    "\n",
    "In the last exercise, we saw that we can identify two sources in the data.\n",
    "\n",
    "1. Data points collected during working days\n",
    "2. Data points collected during non-working days\n",
    "\n",
    "The goal of this exercise is to create a model for each source using your extended set of features, e.g., the original features plus the temp^2, temp^3 polynomial features.\n"
   ]
  },
  {
   "cell_type": "code",
   "execution_count": 42,
   "id": "c10435d1",
   "metadata": {},
   "outputs": [],
   "source": [
    "# Split data into working days (wd) and non-working days (nwd)\n",
    "train_df_wd = train[train.workingday_yes == 1]\n",
    "train_df_nwd = train[train.workingday_yes == 0]\n",
    "\n",
    "test_df_wd = test[test.workingday_yes == 1]\n",
    "test_df_nwd = test[test.workingday_yes == 0]"
   ]
  },
  {
   "cell_type": "code",
   "execution_count": 43,
   "id": "b2ac2e8d",
   "metadata": {},
   "outputs": [
    {
     "name": "stdout",
     "output_type": "stream",
     "text": [
      "MAE two sources: 167.373\n"
     ]
    }
   ],
   "source": [
    "# Fit two linear regressions\n",
    "y_pred_wd = fit_model(\n",
    "    create_features(train_df_wd),\n",
    "    train_df_wd.casual,\n",
    "    create_features(test_df_wd)\n",
    ")\n",
    "y_pred_nwd = fit_model(\n",
    "    create_features(train_df_nwd),\n",
    "    train_df_nwd.casual,\n",
    "    create_features(test_df_nwd)\n",
    ")\n",
    "\n",
    "# Reassemble predictions\n",
    "y_pred_wdnwd = np.concatenate([y_pred_wd, y_pred_nwd])\n",
    "y_te_wdnwd = np.concatenate([\n",
    "    test_df_wd.casual,\n",
    "    test_df_nwd.casual\n",
    "])\n",
    "\n",
    "# Compute MAE\n",
    "mae_wdnwd = MAE(y_te_wdnwd, y_pred_wdnwd)\n",
    "print('MAE two sources: {:.3f}'.format(mae_wdnwd))"
   ]
  },
  {
   "cell_type": "code",
   "execution_count": 44,
   "id": "1ccea588",
   "metadata": {},
   "outputs": [
    {
     "data": {
      "image/png": "[encoded data removed]",
      "text/plain": [
       "<Figure size 432x288 with 1 Axes>"
      ]
     },
     "metadata": {
      "needs_background": "light"
     },
     "output_type": "display_data"
    }
   ],
   "source": [
    "# Plot predictions\n",
    "temp_te_wdnwd = np.concatenate([test_df_wd.temp, test_df_nwd.temp])\n",
    "plt.scatter(temp_te_wdnwd, y_te_wdnwd, s=10, label='test points')\n",
    "plt.scatter(test_df_wd.temp, y_pred_wd, s=10, label='working day model')\n",
    "plt.scatter(test_df_nwd.temp, y_pred_nwd, s=10, label='non-working day model')\n",
    "\n",
    "plt.legend()\n",
    "plt.show()"
   ]
  },
  {
   "cell_type": "code",
   "execution_count": 45,
   "id": "b6dec9e8",
   "metadata": {},
   "outputs": [
    {
     "data": {
      "image/png": "[encoded data removed]",
      "text/plain": [
       "<Figure size 432x288 with 1 Axes>"
      ]
     },
     "metadata": {
      "needs_background": "light"
     },
     "output_type": "display_data"
    }
   ],
   "source": [
    "# Final comparison\n",
    "mae_values = [mae_baseline, mae_lr, mae_lr2, mae_wdnwd]\n",
    "titles = ['median', 'lr', 'lr new features', 'two models']\n",
    "\n",
    "xcor = np.arange(len(mae_values))\n",
    "plt.bar(xcor, mae_values)\n",
    "plt.xticks(xcor, titles)\n",
    "\n",
    "plt.ylabel('MAE')\n",
    "plt.show()"
   ]
  },
  {
   "cell_type": "code",
   "execution_count": null,
   "id": "e76de8bc",
   "metadata": {},
   "outputs": [],
   "source": []
  }
 ],
 "metadata": {
  "kernelspec": {
   "display_name": "Python 3",
   "language": "python",
   "name": "python3"
  },
  "language_info": {
   "codemirror_mode": {
    "name": "ipython",
    "version": 3
   },
   "file_extension": ".py",
   "mimetype": "text/x-python",
   "name": "python",
   "nbconvert_exporter": "python",
   "pygments_lexer": "ipython3",
   "version": "3.6.10"
  }
 },
 "nbformat": 4,
 "nbformat_minor": 5
}
