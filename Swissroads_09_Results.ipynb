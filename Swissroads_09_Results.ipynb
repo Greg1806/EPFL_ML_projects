{
 "cells": [
  {
   "cell_type": "markdown",
   "metadata": {},
   "source": [
    "## Final comparison\n",
    "\n",
    "* import accuracy results from all estimators"
   ]
  },
  {
   "cell_type": "code",
   "execution_count": 1,
   "metadata": {},
   "outputs": [],
   "source": [
    "%store -r baseline_accuracy\n",
    "%store -r knn_accuracy\n",
    "%store -r dt_pca_score_test\n",
    "%store -r logistic_test_score\n",
    "%store -r randomforest_test_score\n",
    "%store -r svm_linear_test\n",
    "%store -r svm_rbf_test\n",
    "%store -r dense_1layer_accuracy\n",
    "%store -r dense_2layers_accuracy\n",
    "%store -r test_acc"
   ]
  },
  {
   "cell_type": "code",
   "execution_count": 2,
   "metadata": {},
   "outputs": [],
   "source": [
    "import numpy as np\n",
    "import pandas as pd"
   ]
  },
  {
   "cell_type": "code",
   "execution_count": 3,
   "metadata": {},
   "outputs": [],
   "source": [
    "data = {'model':['Dummy','k-NN','Decision Tree','Logistic Regression','RandomForest','SVM Linear','SVM RBF','Dense 1-layer','Dense 2-layers','ConvNet'],\\\n",
    "        'test_accuracy':[baseline_accuracy, knn_accuracy, dt_pca_score_test, logistic_test_score, randomforest_test_score, svm_linear_test, svm_rbf_test, dense_1layer_accuracy, dense_2layers_accuracy, test_acc]}\n",
    "df_accuracy = pd.DataFrame(data)"
   ]
  },
  {
   "cell_type": "code",
   "execution_count": 4,
   "metadata": {},
   "outputs": [
    {
     "data": {
      "text/html": [
       "<div>\n",
       "<style scoped>\n",
       "    .dataframe tbody tr th:only-of-type {\n",
       "        vertical-align: middle;\n",
       "    }\n",
       "\n",
       "    .dataframe tbody tr th {\n",
       "        vertical-align: top;\n",
       "    }\n",
       "\n",
       "    .dataframe thead th {\n",
       "        text-align: right;\n",
       "    }\n",
       "</style>\n",
       "<table border=\"1\" class=\"dataframe\">\n",
       "  <thead>\n",
       "    <tr style=\"text-align: right;\">\n",
       "      <th></th>\n",
       "      <th>model</th>\n",
       "      <th>test_accuracy</th>\n",
       "    </tr>\n",
       "  </thead>\n",
       "  <tbody>\n",
       "    <tr>\n",
       "      <th>0</th>\n",
       "      <td>Dummy</td>\n",
       "      <td>0.23741</td>\n",
       "    </tr>\n",
       "    <tr>\n",
       "      <th>1</th>\n",
       "      <td>k-NN</td>\n",
       "      <td>0.90000</td>\n",
       "    </tr>\n",
       "    <tr>\n",
       "      <th>2</th>\n",
       "      <td>Decision Tree</td>\n",
       "      <td>0.82000</td>\n",
       "    </tr>\n",
       "    <tr>\n",
       "      <th>3</th>\n",
       "      <td>Logistic Regression</td>\n",
       "      <td>0.94000</td>\n",
       "    </tr>\n",
       "    <tr>\n",
       "      <th>4</th>\n",
       "      <td>RandomForest</td>\n",
       "      <td>0.88000</td>\n",
       "    </tr>\n",
       "    <tr>\n",
       "      <th>5</th>\n",
       "      <td>SVM Linear</td>\n",
       "      <td>0.92000</td>\n",
       "    </tr>\n",
       "    <tr>\n",
       "      <th>6</th>\n",
       "      <td>SVM RBF</td>\n",
       "      <td>0.94000</td>\n",
       "    </tr>\n",
       "    <tr>\n",
       "      <th>7</th>\n",
       "      <td>Dense 1-layer</td>\n",
       "      <td>0.92000</td>\n",
       "    </tr>\n",
       "    <tr>\n",
       "      <th>8</th>\n",
       "      <td>Dense 2-layers</td>\n",
       "      <td>0.88000</td>\n",
       "    </tr>\n",
       "    <tr>\n",
       "      <th>9</th>\n",
       "      <td>ConvNet</td>\n",
       "      <td>0.50000</td>\n",
       "    </tr>\n",
       "  </tbody>\n",
       "</table>\n",
       "</div>"
      ],
      "text/plain": [
       "                 model  test_accuracy\n",
       "0                Dummy        0.23741\n",
       "1                 k-NN        0.90000\n",
       "2        Decision Tree        0.82000\n",
       "3  Logistic Regression        0.94000\n",
       "4         RandomForest        0.88000\n",
       "5           SVM Linear        0.92000\n",
       "6              SVM RBF        0.94000\n",
       "7        Dense 1-layer        0.92000\n",
       "8       Dense 2-layers        0.88000\n",
       "9              ConvNet        0.50000"
      ]
     },
     "execution_count": 4,
     "metadata": {},
     "output_type": "execute_result"
    }
   ],
   "source": [
    "df_accuracy"
   ]
  },
  {
   "cell_type": "code",
   "execution_count": 5,
   "metadata": {},
   "outputs": [],
   "source": [
    "df_acc_sorted = df_accuracy.sort_values(by='test_accuracy',ascending=False)"
   ]
  },
  {
   "cell_type": "code",
   "execution_count": 6,
   "metadata": {},
   "outputs": [
    {
     "data": {
      "image/png": "[encoded data removed]",
      "text/plain": [
       "<Figure size 432x288 with 1 Axes>"
      ]
     },
     "metadata": {
      "needs_background": "light"
     },
     "output_type": "display_data"
    }
   ],
   "source": [
    "%matplotlib inline\n",
    "import matplotlib.pyplot as plt\n",
    "df_acc_sorted['test_accuracy'].plot(kind='bar', legend=None)\n",
    "plt.xticks(ticks=np.arange(0,10),labels=df_acc_sorted['model'])\n",
    "plt.legend().set_visible(False)\n",
    "plt.title('Estimators test accuracy')\n",
    "plt.show()"
   ]
  },
  {
   "cell_type": "markdown",
   "metadata": {},
   "source": [
    "### Comments:\n",
    "* Logisitc Regression, SVM RBF and Dense 1-layer all reached the highest accuracy on test sets with 94%\n",
    "* Decision Tree (even with PCA pre-processing steps) performs below other etimators for this task\n",
    "* ConvNet model built from sratch wasn't able to reach comparable performance to other estimators based on high-level features"
   ]
  },
  {
   "cell_type": "markdown",
   "metadata": {},
   "source": [
    "## Final comments from Instructors (Mohammad Dia)\n",
    "\n",
    "Hello Grégoire,\n",
    "\n",
    "Thanks for submitting your project. You have implemented all the required tasks and reached the expected performance results! Bravo. Furthermore, you have provided well-documented notebooks and carefully justified your decisions.\n",
    "\n",
    "In this project, you have shown your skills in using TensorFlow hub pre-trained models to extract features, running and comparing several models on the extracted features, building your own CNN, in addition to hyperparameter tuning. Below are some further comments on your submission and some answers to the questions you have raised:\n",
    "\n",
    "**Task 1:**\n",
    "\n",
    "* Instead of using for loops in cells 7-11, you can use the next() method (e.g. features, targets = trainset.next()) to extract the features and labels from an ImageDataGenerator after setting the batch_size to the size of each set in cells 3-4.\n",
    "* Data augmentation enriches or augments, the training data by sampling new images based on the already existing ones (by rotating, flipping,….). So it does not create totally new images from scratch, it simply transforms the existing ones. Data augmentation can help in some specific datasets and ML tasks to improve performance, but this depends on the data and ML model. I refer you to a question asked by \"green-shades\" in the unit \"Advanced Keras\" (C4/S9/U2), the answer there has some more details. Note that in this feature extraction task, the data augmentation is not in action because you did not train any model. Although you have set horizontal_flip=True, rotation_range=5, this has no effect as long you did not fit a Keras model.\n",
    "* You can initiate separate sessions for extraction. Note that since you are not fitting any model here (we are just extracting/predicting features from the pre-trained model), you can also concatenate all the sets and extract features at once then split.\n",
    "\n",
    "**Task 2:**\n",
    "\n",
    "* It is not wrong to scale before PCA, but this might not be needed (check comments on Task 3).\n",
    "* Ideally, you should only fit on the training data set.\n",
    "\n",
    "**Task 3:**\n",
    "\n",
    "* Very good tuning and well done using the Pipeline!\n",
    "* You have already scaled the pixels to range 0-1 before passing it to the Inception Net and extracting high-level features. The scaling after feature extraction might not be useful here (unless you have a good reason to do that). On the contrary, scaling the extracted features might affect the quality of the prediction. The range and scale of the extracted features learned by the model can hold some information that we don't need to remove. The effect is not significant here, but this is just for your further info: no scaling is required in tasks 3-7, only at the raw pixel levels in tasks 1 and 8. Moreover, scaling in a tree-based method is not required even in the more general cases. You could have considered the scaling as one of the hyperparameters if you want and check its effect.\n",
    "* There is no need to define and fit a NearestNeighbors search object to find the 10 neighbors, you can simply use the KNeighborsClassifier which was already trained, and apply the kneighbors method on top of it.\n",
    "\n",
    "**Task 4:**\n",
    "\n",
    "* No further scaling is needed in this special case because we are working on the extracted features. Furthermore, decision trees and random forests do not need scaling in general (only distance-based and gradient-based methods do).\n",
    "* For all preprocessing methods (scaling, PCA), the fit method should only be applied on the train set. If the train set is transformed, then the validation and test should also be transformed but without fitting on them.\n",
    "\n",
    "**Task 5:**\n",
    "\n",
    "* Well done! Same comments on scaling above.\n",
    "* The effect of \"C\" on the probabilities should be further investigated. The idea is to check very very small \"C\". For such values of \"C\" (i.e. for very high regularization, remember \"C\" represents the inverse of the regularization strength in sklearn.), the probabilities become smoother, or less opinionated. This means the probabilities converge to \n",
    "1\n",
    "/\n",
    "6\n",
    " in this case.\n",
    "* You can tune as many hyperparameters as you want. The requirement in this question is just for \"C\".\n",
    "* You can use set_params if you want.\n",
    "\n",
    "**Task 6:**\n",
    "\n",
    "* No scaling needed in general for the random forest.\n",
    "* You can still apply cross-validation or standard grid search with a validation set to estimate the performance of the test data. Although random forest is expected to have less overfitting than decision trees, you might always need to estimate the test performance and you can not only rely on the train performance.\n",
    "* The high train accuracy is indeed because of overfitting.\n",
    "* Gamma equals 1 is not a typical value for RBF kernel, that is why it does not perform well. You can keep the default Gamma.\n",
    "* You can indeed use GridSearchCV. The reason we did not ask them in this task is just to avoid repetition of assessing the same skills (it is already assessed in Task 5).\n",
    "\n",
    "**Task 7:**\n",
    "\n",
    "* Good use of keras API!\n",
    "* The activation function in the hidden layer is relu. However, the one for the output layer depends on the task. In this multi-class classification exercise, it should be softmax. Hence, a single layer NN should have a softmax. Your current implementation is the correct one.\n",
    "* You are not supposed to fix all the randomness here. However, you can do so if you want by seeding all the sources of randomness (split, initializers,…). For that, I refer you to a question asked by \"lalala_didi\" in unit \"Image classifier\" (C4/S11/U2), the answer there has some more details.\n",
    "* The number of units in the hidden layer can be seen as a hyperparameter. If you want to optimize it, you can perform a grid search on it. However, this is not required here. The number of units of the output layers in multi-class classification problems is always equal to the number of classes. It should be 6 in this case.\n",
    "* Having a lower test performance can be a sign of overfitting because we have increased the complexity of the model.\n",
    "\n",
    "**Task 8:**\n",
    "\n",
    "* Nice use of low-level TensorFlow graph. You could have also used high-level Keras to build the CNN as done in Task 7.\n",
    "* Good interpretation of the poor CNN performance. The idea here is to show the limitation of training CNN from scratch with small data compared to doing feature extraction with pre-trained models such as mobilenet or inceptionnet (which is originally trained on the ImageNet dataset with 1.2 million images). The CNN could have performed better should we had much more data.\n",
    "* All the parameters of the CNN can be tuned. Typical choices are kernel size 3, stride 2. The size of the picture does indeed have an impact. For that, I refer you to a question asked by \"random\" in the unit \"Solution - CIFAR-10 CNN\" (C4/S8/U7), the answer there has some more details.\n",
    "* In TF1 you can not use both graph and Keras model together. You should stick to one on them.\n",
    "* The number of neurons in a fully connected layer is also a hyper-parameter. There is no definite number for all the problems. The number of layers is also a hyper-parameter. Note that the architecture is already complex enough for a small dataset like this ( the bottleneck is the data, not the model as explained above), adding more layers might not help.\n",
    "* In the last section of cell 9, you can pass any output defined in the graph in sess.run() to track it, not only the accuracy.\n",
    "\n",
    "**Congratulations on finishing the fourth project and good luck with your capstone.**\n",
    "\n",
    "All the best!"
   ]
  },
  {
   "cell_type": "code",
   "execution_count": null,
   "metadata": {},
   "outputs": [],
   "source": []
  }
 ],
 "metadata": {
  "kernelspec": {
   "display_name": "Python 3",
   "language": "python",
   "name": "python3"
  },
  "language_info": {
   "codemirror_mode": {
    "name": "ipython",
    "version": 3
   },
   "file_extension": ".py",
   "mimetype": "text/x-python",
   "name": "python",
   "nbconvert_exporter": "python",
   "pygments_lexer": "ipython3",
   "version": "3.6.10"
  }
 },
 "nbformat": 4,
 "nbformat_minor": 4
}
